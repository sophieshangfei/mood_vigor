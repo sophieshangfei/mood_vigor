{
 "cells": [
  {
   "cell_type": "code",
   "execution_count": 1,
   "metadata": {},
   "outputs": [],
   "source": [
    "import numpy as np\n",
    "import pandas as pd\n",
    "import matplotlib.pyplot as plt\n",
    "import seaborn as sns\n",
    "from scipy import stats as ss"
   ]
  },
  {
   "cell_type": "code",
   "execution_count": 5,
   "metadata": {},
   "outputs": [],
   "source": [
    "from statsmodels.formula.api import mixedlm"
   ]
  },
  {
   "cell_type": "code",
   "execution_count": 2,
   "metadata": {},
   "outputs": [],
   "source": [
    "pd.set_option('display.max_columns', 300)\n",
    "pd.set_option('display.max_rows', None)"
   ]
  },
  {
   "cell_type": "code",
   "execution_count": 3,
   "metadata": {},
   "outputs": [],
   "source": [
    "# #get rid of scientific notation\n",
    "pd.set_option('display.float_format', lambda x: '%.3f' % x)"
   ]
  },
  {
   "cell_type": "code",
   "execution_count": 4,
   "metadata": {},
   "outputs": [],
   "source": [
    "data = pd.read_csv(\"data_pos_0-2_latency_backfilled_happiness.csv\")\n"
   ]
  },
  {
   "cell_type": "code",
   "execution_count": 7,
   "metadata": {},
   "outputs": [],
   "source": [
    "# calculate fatigue\n",
    "data[\"tap_count\"] = [1] * len(data)\n",
    "tap_count = data.groupby(['Subject', 'trial_label'])['tap_count'].cumsum().reset_index(name = \"fatigue\")\n",
    "tap_count = tap_count.reset_index().set_index(\"index\")\n",
    "tap_count = tap_count.drop(\"level_0\", axis = 1)\n"
   ]
  },
  {
   "cell_type": "code",
   "execution_count": 8,
   "metadata": {},
   "outputs": [],
   "source": [
    "data = tap_count.merge(data, left_index = True, right_index = True, how = \"inner\")\n"
   ]
  },
  {
   "cell_type": "code",
   "execution_count": 9,
   "metadata": {},
   "outputs": [],
   "source": [
    "data[\"log_latency\"] = np.log(data[\"latency\"])\n"
   ]
  },
  {
   "cell_type": "code",
   "execution_count": 10,
   "metadata": {},
   "outputs": [
    {
     "data": {
      "text/plain": [
       "array([0.1, 0.4, 1. , 2.5, nan])"
      ]
     },
     "execution_count": 10,
     "metadata": {},
     "output_type": "execute_result"
    }
   ],
   "source": [
    "data.price_displayed.unique()\n"
   ]
  },
  {
   "cell_type": "code",
   "execution_count": 11,
   "metadata": {},
   "outputs": [
    {
     "data": {
      "text/plain": [
       "array(['fishing_pos', 'mood_rating_pos'], dtype=object)"
      ]
     },
     "execution_count": 11,
     "metadata": {},
     "output_type": "execute_result"
    }
   ],
   "source": [
    "data.task.unique()"
   ]
  },
  {
   "cell_type": "code",
   "execution_count": 12,
   "metadata": {},
   "outputs": [],
   "source": [
    "# drop mood rating trials\n",
    "data = data[data.task == 'fishing_pos']"
   ]
  },
  {
   "cell_type": "code",
   "execution_count": 13,
   "metadata": {},
   "outputs": [],
   "source": [
    "data.latency.isnull().values.any()\n",
    "data = data[data.latency.notnull()]"
   ]
  },
  {
   "cell_type": "code",
   "execution_count": 20,
   "metadata": {},
   "outputs": [
    {
     "name": "stderr",
     "output_type": "stream",
     "text": [
      "/Library/Frameworks/Python.framework/Versions/3.6/lib/python3.6/site-packages/statsmodels/regression/mixed_linear_model.py:2094: ConvergenceWarning: The MLE may be on the boundary of the parameter space.\n",
      "  warnings.warn(msg, ConvergenceWarning)\n"
     ]
    }
   ],
   "source": [
    "f_model = mixedlm(formula = \"log_latency ~ 1 + response + price_displayed + fatigue + environment\",\n",
    "                 groups = data[\"Subject\"],\n",
    "                 re_formula = \"~ response + price_displayed + fatigue + environment\", data = data)\n",
    "r = f_model.fit(reml = False, method = \"powell\")\n"
   ]
  },
  {
   "cell_type": "code",
   "execution_count": 21,
   "metadata": {},
   "outputs": [
    {
     "name": "stdout",
     "output_type": "stream",
     "text": [
      "                         Mixed Linear Model Regression Results\n",
      "========================================================================================\n",
      "Model:                       MixedLM           Dependent Variable:           log_latency\n",
      "No. Observations:            40731             Method:                       ML         \n",
      "No. Groups:                  29                Scale:                        0.0550     \n",
      "Min. group size:             1151              Likelihood:                   1031.8946  \n",
      "Max. group size:             1687              Converged:                    Yes        \n",
      "Mean group size:             1404.5                                                     \n",
      "----------------------------------------------------------------------------------------\n",
      "                                              Coef.  Std.Err.   z    P>|z| [0.025 0.975]\n",
      "----------------------------------------------------------------------------------------\n",
      "Intercept                                      5.203    0.057 90.885 0.000  5.091  5.316\n",
      "environment[T.pre_mood]                        0.013    0.011  1.236 0.217 -0.008  0.034\n",
      "response                                      -0.002    0.001 -2.034 0.042 -0.003 -0.000\n",
      "price_displayed                               -0.023    0.008 -2.741 0.006 -0.039 -0.006\n",
      "fatigue                                       -0.001    0.000 -3.427 0.001 -0.001 -0.000\n",
      "Group Var                                      0.069    0.141                           \n",
      "Group x environment[T.pre_mood] Cov           -0.001    0.014                           \n",
      "environment[T.pre_mood] Var                    0.003    0.004                           \n",
      "Group x response Cov                          -0.001    0.002                           \n",
      "environment[T.pre_mood] x response Cov         0.000    0.000                           \n",
      "response Var                                   0.000    0.000                           \n",
      "Group x price_displayed Cov                   -0.004    0.011                           \n",
      "environment[T.pre_mood] x price_displayed Cov -0.000    0.002                           \n",
      "response x price_displayed Cov                 0.000    0.000                           \n",
      "price_displayed Var                            0.002    0.002                           \n",
      "Group x fatigue Cov                            0.000    0.000                           \n",
      "environment[T.pre_mood] x fatigue Cov         -0.000    0.000                           \n",
      "response x fatigue Cov                        -0.000    0.000                           \n",
      "price_displayed x fatigue Cov                  0.000    0.000                           \n",
      "fatigue Var                                    0.000    0.000                           \n",
      "========================================================================================\n",
      "\n"
     ]
    }
   ],
   "source": [
    "print (r.summary())"
   ]
  },
  {
   "cell_type": "code",
   "execution_count": 17,
   "metadata": {},
   "outputs": [],
   "source": [
    "r_params = pd.DataFrame(r.params, columns = [\"LMM\"])\n",
    "random_effects = pd.DataFrame(r.random_effects)\n",
    "random_effects = random_effects.transpose()\n",
    "random_effects = random_effects.rename(index = str, columns = {\"group\":\"LMM\"})"
   ]
  },
  {
   "cell_type": "code",
   "execution_count": null,
   "metadata": {},
   "outputs": [],
   "source": []
  }
 ],
 "metadata": {
  "kernelspec": {
   "display_name": "Python 3",
   "language": "python",
   "name": "python3"
  },
  "language_info": {
   "codemirror_mode": {
    "name": "ipython",
    "version": 3
   },
   "file_extension": ".py",
   "mimetype": "text/x-python",
   "name": "python",
   "nbconvert_exporter": "python",
   "pygments_lexer": "ipython3",
   "version": "3.6.3"
  }
 },
 "nbformat": 4,
 "nbformat_minor": 4
}
