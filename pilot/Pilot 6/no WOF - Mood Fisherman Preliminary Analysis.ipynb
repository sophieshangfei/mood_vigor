{
 "cells": [
  {
   "cell_type": "code",
   "execution_count": 1,
   "metadata": {},
   "outputs": [],
   "source": [
    "import numpy as np\n",
    "import pandas as pd\n",
    "import matplotlib.pyplot as plt\n",
    "import seaborn as sns\n",
    "from scipy import stats as ss"
   ]
  },
  {
   "cell_type": "code",
   "execution_count": 2,
   "metadata": {},
   "outputs": [],
   "source": [
    "pd.set_option('display.max_columns', 300)\n",
    "pd.set_option('display.max_rows', None)"
   ]
  },
  {
   "cell_type": "code",
   "execution_count": 3,
   "metadata": {},
   "outputs": [],
   "source": [
    "# #get rid of scientific notation\n",
    "pd.set_option('display.float_format', lambda x: '%.3f' % x)"
   ]
  },
  {
   "cell_type": "markdown",
   "metadata": {},
   "source": [
    "# Sound check"
   ]
  },
  {
   "cell_type": "code",
   "execution_count": 4,
   "metadata": {},
   "outputs": [],
   "source": [
    "# sound check\n",
    "# do a quick check for sound\n",
    "# data_exp_24884-v5_task-qgn4.csv\n",
    "sound = pd.read_csv('data_exp_26456-v5_task-qgn4.csv', sep = \",\")\n",
    "sound = sound.replace('null', np.nan)\n",
    "sound = sound.replace('nan', np.nan)"
   ]
  },
  {
   "cell_type": "code",
   "execution_count": 5,
   "metadata": {},
   "outputs": [],
   "source": [
    "sound = sound[np.isfinite(sound['button pressed'])]"
   ]
  },
  {
   "cell_type": "code",
   "execution_count": 8,
   "metadata": {},
   "outputs": [],
   "source": [
    "correct = [1, 0, 0]* 29"
   ]
  },
  {
   "cell_type": "code",
   "execution_count": 9,
   "metadata": {},
   "outputs": [],
   "source": [
    "s = (sound['button pressed'] == correct).reset_index(name = 'check')\n",
    "sound = sound.reset_index()\n",
    "sound = pd.merge(s[['index', 'check']], sound, on = 'index')\n",
    "sound_final= sound[['Participant Private ID','button pressed','check']]"
   ]
  },
  {
   "cell_type": "code",
   "execution_count": 10,
   "metadata": {},
   "outputs": [
    {
     "data": {
      "text/html": [
       "<div>\n",
       "<style scoped>\n",
       "    .dataframe tbody tr th:only-of-type {\n",
       "        vertical-align: middle;\n",
       "    }\n",
       "\n",
       "    .dataframe tbody tr th {\n",
       "        vertical-align: top;\n",
       "    }\n",
       "\n",
       "    .dataframe thead th {\n",
       "        text-align: right;\n",
       "    }\n",
       "</style>\n",
       "<table border=\"1\" class=\"dataframe\">\n",
       "  <thead>\n",
       "    <tr style=\"text-align: right;\">\n",
       "      <th></th>\n",
       "      <th>Participant Private ID</th>\n",
       "      <th>button pressed</th>\n",
       "      <th>check</th>\n",
       "    </tr>\n",
       "  </thead>\n",
       "  <tbody>\n",
       "    <tr>\n",
       "      <td>0</td>\n",
       "      <td>1991422.000</td>\n",
       "      <td>1.000</td>\n",
       "      <td>True</td>\n",
       "    </tr>\n",
       "    <tr>\n",
       "      <td>1</td>\n",
       "      <td>1991422.000</td>\n",
       "      <td>0.000</td>\n",
       "      <td>True</td>\n",
       "    </tr>\n",
       "    <tr>\n",
       "      <td>2</td>\n",
       "      <td>1991422.000</td>\n",
       "      <td>0.000</td>\n",
       "      <td>True</td>\n",
       "    </tr>\n",
       "    <tr>\n",
       "      <td>3</td>\n",
       "      <td>1991175.000</td>\n",
       "      <td>1.000</td>\n",
       "      <td>True</td>\n",
       "    </tr>\n",
       "    <tr>\n",
       "      <td>4</td>\n",
       "      <td>1991175.000</td>\n",
       "      <td>0.000</td>\n",
       "      <td>True</td>\n",
       "    </tr>\n",
       "    <tr>\n",
       "      <td>5</td>\n",
       "      <td>1991175.000</td>\n",
       "      <td>0.000</td>\n",
       "      <td>True</td>\n",
       "    </tr>\n",
       "    <tr>\n",
       "      <td>6</td>\n",
       "      <td>1991177.000</td>\n",
       "      <td>1.000</td>\n",
       "      <td>True</td>\n",
       "    </tr>\n",
       "    <tr>\n",
       "      <td>7</td>\n",
       "      <td>1991177.000</td>\n",
       "      <td>0.000</td>\n",
       "      <td>True</td>\n",
       "    </tr>\n",
       "    <tr>\n",
       "      <td>8</td>\n",
       "      <td>1991177.000</td>\n",
       "      <td>0.000</td>\n",
       "      <td>True</td>\n",
       "    </tr>\n",
       "    <tr>\n",
       "      <td>9</td>\n",
       "      <td>1991180.000</td>\n",
       "      <td>1.000</td>\n",
       "      <td>True</td>\n",
       "    </tr>\n",
       "    <tr>\n",
       "      <td>10</td>\n",
       "      <td>1991180.000</td>\n",
       "      <td>0.000</td>\n",
       "      <td>True</td>\n",
       "    </tr>\n",
       "    <tr>\n",
       "      <td>11</td>\n",
       "      <td>1991180.000</td>\n",
       "      <td>0.000</td>\n",
       "      <td>True</td>\n",
       "    </tr>\n",
       "    <tr>\n",
       "      <td>12</td>\n",
       "      <td>1991522.000</td>\n",
       "      <td>1.000</td>\n",
       "      <td>True</td>\n",
       "    </tr>\n",
       "    <tr>\n",
       "      <td>13</td>\n",
       "      <td>1991522.000</td>\n",
       "      <td>1.000</td>\n",
       "      <td>False</td>\n",
       "    </tr>\n",
       "    <tr>\n",
       "      <td>14</td>\n",
       "      <td>1991522.000</td>\n",
       "      <td>0.000</td>\n",
       "      <td>True</td>\n",
       "    </tr>\n",
       "    <tr>\n",
       "      <td>15</td>\n",
       "      <td>1991132.000</td>\n",
       "      <td>1.000</td>\n",
       "      <td>True</td>\n",
       "    </tr>\n",
       "    <tr>\n",
       "      <td>16</td>\n",
       "      <td>1991132.000</td>\n",
       "      <td>0.000</td>\n",
       "      <td>True</td>\n",
       "    </tr>\n",
       "    <tr>\n",
       "      <td>17</td>\n",
       "      <td>1991132.000</td>\n",
       "      <td>0.000</td>\n",
       "      <td>True</td>\n",
       "    </tr>\n",
       "    <tr>\n",
       "      <td>18</td>\n",
       "      <td>1991143.000</td>\n",
       "      <td>1.000</td>\n",
       "      <td>True</td>\n",
       "    </tr>\n",
       "    <tr>\n",
       "      <td>19</td>\n",
       "      <td>1991143.000</td>\n",
       "      <td>0.000</td>\n",
       "      <td>True</td>\n",
       "    </tr>\n",
       "    <tr>\n",
       "      <td>20</td>\n",
       "      <td>1991143.000</td>\n",
       "      <td>0.000</td>\n",
       "      <td>True</td>\n",
       "    </tr>\n",
       "    <tr>\n",
       "      <td>21</td>\n",
       "      <td>1991163.000</td>\n",
       "      <td>1.000</td>\n",
       "      <td>True</td>\n",
       "    </tr>\n",
       "    <tr>\n",
       "      <td>22</td>\n",
       "      <td>1991163.000</td>\n",
       "      <td>0.000</td>\n",
       "      <td>True</td>\n",
       "    </tr>\n",
       "    <tr>\n",
       "      <td>23</td>\n",
       "      <td>1991163.000</td>\n",
       "      <td>0.000</td>\n",
       "      <td>True</td>\n",
       "    </tr>\n",
       "    <tr>\n",
       "      <td>24</td>\n",
       "      <td>1991165.000</td>\n",
       "      <td>1.000</td>\n",
       "      <td>True</td>\n",
       "    </tr>\n",
       "    <tr>\n",
       "      <td>25</td>\n",
       "      <td>1991165.000</td>\n",
       "      <td>0.000</td>\n",
       "      <td>True</td>\n",
       "    </tr>\n",
       "    <tr>\n",
       "      <td>26</td>\n",
       "      <td>1991165.000</td>\n",
       "      <td>0.000</td>\n",
       "      <td>True</td>\n",
       "    </tr>\n",
       "    <tr>\n",
       "      <td>27</td>\n",
       "      <td>1991167.000</td>\n",
       "      <td>1.000</td>\n",
       "      <td>True</td>\n",
       "    </tr>\n",
       "    <tr>\n",
       "      <td>28</td>\n",
       "      <td>1991167.000</td>\n",
       "      <td>0.000</td>\n",
       "      <td>True</td>\n",
       "    </tr>\n",
       "    <tr>\n",
       "      <td>29</td>\n",
       "      <td>1991167.000</td>\n",
       "      <td>0.000</td>\n",
       "      <td>True</td>\n",
       "    </tr>\n",
       "    <tr>\n",
       "      <td>30</td>\n",
       "      <td>1991176.000</td>\n",
       "      <td>1.000</td>\n",
       "      <td>True</td>\n",
       "    </tr>\n",
       "    <tr>\n",
       "      <td>31</td>\n",
       "      <td>1991176.000</td>\n",
       "      <td>0.000</td>\n",
       "      <td>True</td>\n",
       "    </tr>\n",
       "    <tr>\n",
       "      <td>32</td>\n",
       "      <td>1991176.000</td>\n",
       "      <td>0.000</td>\n",
       "      <td>True</td>\n",
       "    </tr>\n",
       "    <tr>\n",
       "      <td>33</td>\n",
       "      <td>1991090.000</td>\n",
       "      <td>1.000</td>\n",
       "      <td>True</td>\n",
       "    </tr>\n",
       "    <tr>\n",
       "      <td>34</td>\n",
       "      <td>1991090.000</td>\n",
       "      <td>0.000</td>\n",
       "      <td>True</td>\n",
       "    </tr>\n",
       "    <tr>\n",
       "      <td>35</td>\n",
       "      <td>1991090.000</td>\n",
       "      <td>0.000</td>\n",
       "      <td>True</td>\n",
       "    </tr>\n",
       "    <tr>\n",
       "      <td>36</td>\n",
       "      <td>1991102.000</td>\n",
       "      <td>1.000</td>\n",
       "      <td>True</td>\n",
       "    </tr>\n",
       "    <tr>\n",
       "      <td>37</td>\n",
       "      <td>1991102.000</td>\n",
       "      <td>0.000</td>\n",
       "      <td>True</td>\n",
       "    </tr>\n",
       "    <tr>\n",
       "      <td>38</td>\n",
       "      <td>1991102.000</td>\n",
       "      <td>0.000</td>\n",
       "      <td>True</td>\n",
       "    </tr>\n",
       "    <tr>\n",
       "      <td>39</td>\n",
       "      <td>1991107.000</td>\n",
       "      <td>1.000</td>\n",
       "      <td>True</td>\n",
       "    </tr>\n",
       "    <tr>\n",
       "      <td>40</td>\n",
       "      <td>1991107.000</td>\n",
       "      <td>0.000</td>\n",
       "      <td>True</td>\n",
       "    </tr>\n",
       "    <tr>\n",
       "      <td>41</td>\n",
       "      <td>1991107.000</td>\n",
       "      <td>0.000</td>\n",
       "      <td>True</td>\n",
       "    </tr>\n",
       "    <tr>\n",
       "      <td>42</td>\n",
       "      <td>1991108.000</td>\n",
       "      <td>1.000</td>\n",
       "      <td>True</td>\n",
       "    </tr>\n",
       "    <tr>\n",
       "      <td>43</td>\n",
       "      <td>1991108.000</td>\n",
       "      <td>0.000</td>\n",
       "      <td>True</td>\n",
       "    </tr>\n",
       "    <tr>\n",
       "      <td>44</td>\n",
       "      <td>1991108.000</td>\n",
       "      <td>0.000</td>\n",
       "      <td>True</td>\n",
       "    </tr>\n",
       "    <tr>\n",
       "      <td>45</td>\n",
       "      <td>1991110.000</td>\n",
       "      <td>1.000</td>\n",
       "      <td>True</td>\n",
       "    </tr>\n",
       "    <tr>\n",
       "      <td>46</td>\n",
       "      <td>1991110.000</td>\n",
       "      <td>0.000</td>\n",
       "      <td>True</td>\n",
       "    </tr>\n",
       "    <tr>\n",
       "      <td>47</td>\n",
       "      <td>1991110.000</td>\n",
       "      <td>0.000</td>\n",
       "      <td>True</td>\n",
       "    </tr>\n",
       "    <tr>\n",
       "      <td>48</td>\n",
       "      <td>1991113.000</td>\n",
       "      <td>1.000</td>\n",
       "      <td>True</td>\n",
       "    </tr>\n",
       "    <tr>\n",
       "      <td>49</td>\n",
       "      <td>1991113.000</td>\n",
       "      <td>0.000</td>\n",
       "      <td>True</td>\n",
       "    </tr>\n",
       "    <tr>\n",
       "      <td>50</td>\n",
       "      <td>1991113.000</td>\n",
       "      <td>0.000</td>\n",
       "      <td>True</td>\n",
       "    </tr>\n",
       "    <tr>\n",
       "      <td>51</td>\n",
       "      <td>1991118.000</td>\n",
       "      <td>0.000</td>\n",
       "      <td>False</td>\n",
       "    </tr>\n",
       "    <tr>\n",
       "      <td>52</td>\n",
       "      <td>1991118.000</td>\n",
       "      <td>0.000</td>\n",
       "      <td>True</td>\n",
       "    </tr>\n",
       "    <tr>\n",
       "      <td>53</td>\n",
       "      <td>1991118.000</td>\n",
       "      <td>0.000</td>\n",
       "      <td>True</td>\n",
       "    </tr>\n",
       "    <tr>\n",
       "      <td>54</td>\n",
       "      <td>1991119.000</td>\n",
       "      <td>1.000</td>\n",
       "      <td>True</td>\n",
       "    </tr>\n",
       "    <tr>\n",
       "      <td>55</td>\n",
       "      <td>1991119.000</td>\n",
       "      <td>0.000</td>\n",
       "      <td>True</td>\n",
       "    </tr>\n",
       "    <tr>\n",
       "      <td>56</td>\n",
       "      <td>1991119.000</td>\n",
       "      <td>0.000</td>\n",
       "      <td>True</td>\n",
       "    </tr>\n",
       "    <tr>\n",
       "      <td>57</td>\n",
       "      <td>1991122.000</td>\n",
       "      <td>1.000</td>\n",
       "      <td>True</td>\n",
       "    </tr>\n",
       "    <tr>\n",
       "      <td>58</td>\n",
       "      <td>1991122.000</td>\n",
       "      <td>0.000</td>\n",
       "      <td>True</td>\n",
       "    </tr>\n",
       "    <tr>\n",
       "      <td>59</td>\n",
       "      <td>1991122.000</td>\n",
       "      <td>0.000</td>\n",
       "      <td>True</td>\n",
       "    </tr>\n",
       "    <tr>\n",
       "      <td>60</td>\n",
       "      <td>1991126.000</td>\n",
       "      <td>1.000</td>\n",
       "      <td>True</td>\n",
       "    </tr>\n",
       "    <tr>\n",
       "      <td>61</td>\n",
       "      <td>1991126.000</td>\n",
       "      <td>0.000</td>\n",
       "      <td>True</td>\n",
       "    </tr>\n",
       "    <tr>\n",
       "      <td>62</td>\n",
       "      <td>1991126.000</td>\n",
       "      <td>0.000</td>\n",
       "      <td>True</td>\n",
       "    </tr>\n",
       "    <tr>\n",
       "      <td>63</td>\n",
       "      <td>1991128.000</td>\n",
       "      <td>1.000</td>\n",
       "      <td>True</td>\n",
       "    </tr>\n",
       "    <tr>\n",
       "      <td>64</td>\n",
       "      <td>1991128.000</td>\n",
       "      <td>0.000</td>\n",
       "      <td>True</td>\n",
       "    </tr>\n",
       "    <tr>\n",
       "      <td>65</td>\n",
       "      <td>1991128.000</td>\n",
       "      <td>0.000</td>\n",
       "      <td>True</td>\n",
       "    </tr>\n",
       "    <tr>\n",
       "      <td>66</td>\n",
       "      <td>1991139.000</td>\n",
       "      <td>0.000</td>\n",
       "      <td>False</td>\n",
       "    </tr>\n",
       "    <tr>\n",
       "      <td>67</td>\n",
       "      <td>1991139.000</td>\n",
       "      <td>0.000</td>\n",
       "      <td>True</td>\n",
       "    </tr>\n",
       "    <tr>\n",
       "      <td>68</td>\n",
       "      <td>1991139.000</td>\n",
       "      <td>0.000</td>\n",
       "      <td>True</td>\n",
       "    </tr>\n",
       "    <tr>\n",
       "      <td>69</td>\n",
       "      <td>1991142.000</td>\n",
       "      <td>1.000</td>\n",
       "      <td>True</td>\n",
       "    </tr>\n",
       "    <tr>\n",
       "      <td>70</td>\n",
       "      <td>1991142.000</td>\n",
       "      <td>0.000</td>\n",
       "      <td>True</td>\n",
       "    </tr>\n",
       "    <tr>\n",
       "      <td>71</td>\n",
       "      <td>1991142.000</td>\n",
       "      <td>0.000</td>\n",
       "      <td>True</td>\n",
       "    </tr>\n",
       "    <tr>\n",
       "      <td>72</td>\n",
       "      <td>1991576.000</td>\n",
       "      <td>1.000</td>\n",
       "      <td>True</td>\n",
       "    </tr>\n",
       "    <tr>\n",
       "      <td>73</td>\n",
       "      <td>1991576.000</td>\n",
       "      <td>0.000</td>\n",
       "      <td>True</td>\n",
       "    </tr>\n",
       "    <tr>\n",
       "      <td>74</td>\n",
       "      <td>1991576.000</td>\n",
       "      <td>0.000</td>\n",
       "      <td>True</td>\n",
       "    </tr>\n",
       "    <tr>\n",
       "      <td>75</td>\n",
       "      <td>1991873.000</td>\n",
       "      <td>1.000</td>\n",
       "      <td>True</td>\n",
       "    </tr>\n",
       "    <tr>\n",
       "      <td>76</td>\n",
       "      <td>1991873.000</td>\n",
       "      <td>0.000</td>\n",
       "      <td>True</td>\n",
       "    </tr>\n",
       "    <tr>\n",
       "      <td>77</td>\n",
       "      <td>1991873.000</td>\n",
       "      <td>0.000</td>\n",
       "      <td>True</td>\n",
       "    </tr>\n",
       "    <tr>\n",
       "      <td>78</td>\n",
       "      <td>1991106.000</td>\n",
       "      <td>1.000</td>\n",
       "      <td>True</td>\n",
       "    </tr>\n",
       "    <tr>\n",
       "      <td>79</td>\n",
       "      <td>1991106.000</td>\n",
       "      <td>0.000</td>\n",
       "      <td>True</td>\n",
       "    </tr>\n",
       "    <tr>\n",
       "      <td>80</td>\n",
       "      <td>1991106.000</td>\n",
       "      <td>0.000</td>\n",
       "      <td>True</td>\n",
       "    </tr>\n",
       "    <tr>\n",
       "      <td>81</td>\n",
       "      <td>1991117.000</td>\n",
       "      <td>1.000</td>\n",
       "      <td>True</td>\n",
       "    </tr>\n",
       "    <tr>\n",
       "      <td>82</td>\n",
       "      <td>1991117.000</td>\n",
       "      <td>0.000</td>\n",
       "      <td>True</td>\n",
       "    </tr>\n",
       "    <tr>\n",
       "      <td>83</td>\n",
       "      <td>1991117.000</td>\n",
       "      <td>0.000</td>\n",
       "      <td>True</td>\n",
       "    </tr>\n",
       "    <tr>\n",
       "      <td>84</td>\n",
       "      <td>1991874.000</td>\n",
       "      <td>1.000</td>\n",
       "      <td>True</td>\n",
       "    </tr>\n",
       "    <tr>\n",
       "      <td>85</td>\n",
       "      <td>1991874.000</td>\n",
       "      <td>0.000</td>\n",
       "      <td>True</td>\n",
       "    </tr>\n",
       "    <tr>\n",
       "      <td>86</td>\n",
       "      <td>1991874.000</td>\n",
       "      <td>0.000</td>\n",
       "      <td>True</td>\n",
       "    </tr>\n",
       "  </tbody>\n",
       "</table>\n",
       "</div>"
      ],
      "text/plain": [
       "    Participant Private ID  button pressed  check\n",
       "0              1991422.000           1.000   True\n",
       "1              1991422.000           0.000   True\n",
       "2              1991422.000           0.000   True\n",
       "3              1991175.000           1.000   True\n",
       "4              1991175.000           0.000   True\n",
       "5              1991175.000           0.000   True\n",
       "6              1991177.000           1.000   True\n",
       "7              1991177.000           0.000   True\n",
       "8              1991177.000           0.000   True\n",
       "9              1991180.000           1.000   True\n",
       "10             1991180.000           0.000   True\n",
       "11             1991180.000           0.000   True\n",
       "12             1991522.000           1.000   True\n",
       "13             1991522.000           1.000  False\n",
       "14             1991522.000           0.000   True\n",
       "15             1991132.000           1.000   True\n",
       "16             1991132.000           0.000   True\n",
       "17             1991132.000           0.000   True\n",
       "18             1991143.000           1.000   True\n",
       "19             1991143.000           0.000   True\n",
       "20             1991143.000           0.000   True\n",
       "21             1991163.000           1.000   True\n",
       "22             1991163.000           0.000   True\n",
       "23             1991163.000           0.000   True\n",
       "24             1991165.000           1.000   True\n",
       "25             1991165.000           0.000   True\n",
       "26             1991165.000           0.000   True\n",
       "27             1991167.000           1.000   True\n",
       "28             1991167.000           0.000   True\n",
       "29             1991167.000           0.000   True\n",
       "30             1991176.000           1.000   True\n",
       "31             1991176.000           0.000   True\n",
       "32             1991176.000           0.000   True\n",
       "33             1991090.000           1.000   True\n",
       "34             1991090.000           0.000   True\n",
       "35             1991090.000           0.000   True\n",
       "36             1991102.000           1.000   True\n",
       "37             1991102.000           0.000   True\n",
       "38             1991102.000           0.000   True\n",
       "39             1991107.000           1.000   True\n",
       "40             1991107.000           0.000   True\n",
       "41             1991107.000           0.000   True\n",
       "42             1991108.000           1.000   True\n",
       "43             1991108.000           0.000   True\n",
       "44             1991108.000           0.000   True\n",
       "45             1991110.000           1.000   True\n",
       "46             1991110.000           0.000   True\n",
       "47             1991110.000           0.000   True\n",
       "48             1991113.000           1.000   True\n",
       "49             1991113.000           0.000   True\n",
       "50             1991113.000           0.000   True\n",
       "51             1991118.000           0.000  False\n",
       "52             1991118.000           0.000   True\n",
       "53             1991118.000           0.000   True\n",
       "54             1991119.000           1.000   True\n",
       "55             1991119.000           0.000   True\n",
       "56             1991119.000           0.000   True\n",
       "57             1991122.000           1.000   True\n",
       "58             1991122.000           0.000   True\n",
       "59             1991122.000           0.000   True\n",
       "60             1991126.000           1.000   True\n",
       "61             1991126.000           0.000   True\n",
       "62             1991126.000           0.000   True\n",
       "63             1991128.000           1.000   True\n",
       "64             1991128.000           0.000   True\n",
       "65             1991128.000           0.000   True\n",
       "66             1991139.000           0.000  False\n",
       "67             1991139.000           0.000   True\n",
       "68             1991139.000           0.000   True\n",
       "69             1991142.000           1.000   True\n",
       "70             1991142.000           0.000   True\n",
       "71             1991142.000           0.000   True\n",
       "72             1991576.000           1.000   True\n",
       "73             1991576.000           0.000   True\n",
       "74             1991576.000           0.000   True\n",
       "75             1991873.000           1.000   True\n",
       "76             1991873.000           0.000   True\n",
       "77             1991873.000           0.000   True\n",
       "78             1991106.000           1.000   True\n",
       "79             1991106.000           0.000   True\n",
       "80             1991106.000           0.000   True\n",
       "81             1991117.000           1.000   True\n",
       "82             1991117.000           0.000   True\n",
       "83             1991117.000           0.000   True\n",
       "84             1991874.000           1.000   True\n",
       "85             1991874.000           0.000   True\n",
       "86             1991874.000           0.000   True"
      ]
     },
     "execution_count": 10,
     "metadata": {},
     "output_type": "execute_result"
    }
   ],
   "source": [
    "sound_final"
   ]
  },
  {
   "cell_type": "markdown",
   "metadata": {},
   "source": [
    "# Fish"
   ]
  },
  {
   "cell_type": "code",
   "execution_count": 76,
   "metadata": {},
   "outputs": [],
   "source": [
    "# import file\n",
    "data = pd.read_csv('data_no_wof_latency_backfilled_happiness.csv', sep = \",\")\n",
    "# data_2 = pd.read_csv(\"pilot_2/data_exp_24005-v8_task-lhx6.csv\", sep = \",\")\n"
   ]
  },
  {
   "cell_type": "code",
   "execution_count": 77,
   "metadata": {},
   "outputs": [],
   "source": [
    "data = data[~data.Subject.isin([1991118.000, 1991119.000,1991143.000, 1991165.000, 1991117.000])] # incomplete data\n",
    "data = data[~data.Subject.isin([1991102.000, 1991107.000,1991113.000, 1991117.000, 1991119.000, 1991142, 1991175])] # did not follow instructions\n",
    "\n"
   ]
  },
  {
   "cell_type": "code",
   "execution_count": 78,
   "metadata": {},
   "outputs": [],
   "source": [
    "fish = data[(data.task == \"fishing_pos\")|(data.task == \"fishing_neg\")]\n"
   ]
  },
  {
   "cell_type": "code",
   "execution_count": 79,
   "metadata": {},
   "outputs": [
    {
     "data": {
      "text/plain": [
       "array(['pre_mood', 'post_mood'], dtype=object)"
      ]
     },
     "execution_count": 79,
     "metadata": {},
     "output_type": "execute_result"
    }
   ],
   "source": [
    "fish.environment.unique()"
   ]
  },
  {
   "cell_type": "code",
   "execution_count": 80,
   "metadata": {},
   "outputs": [
    {
     "data": {
      "text/plain": [
       "19"
      ]
     },
     "execution_count": 80,
     "metadata": {},
     "output_type": "execute_result"
    }
   ],
   "source": [
    "fish.Subject.nunique()"
   ]
  },
  {
   "cell_type": "code",
   "execution_count": 109,
   "metadata": {},
   "outputs": [],
   "source": [
    "fish.latency.isnull().values.any()\n",
    "fish = fish[fish.latency.notnull()]"
   ]
  },
  {
   "cell_type": "code",
   "execution_count": 110,
   "metadata": {},
   "outputs": [
    {
     "data": {
      "text/plain": [
       "<matplotlib.axes._subplots.AxesSubplot at 0x11daf3518>"
      ]
     },
     "execution_count": 110,
     "metadata": {},
     "output_type": "execute_result"
    },
    {
     "data": {
      "image/png": "[encoded data removed]",
      "text/plain": [
       "<Figure size 432x288 with 1 Axes>"
      ]
     },
     "metadata": {
      "needs_background": "light"
     },
     "output_type": "display_data"
    }
   ],
   "source": [
    "sns.distplot(fish.latency)"
   ]
  },
  {
   "cell_type": "code",
   "execution_count": null,
   "metadata": {},
   "outputs": [],
   "source": [
    "fish"
   ]
  },
  {
   "cell_type": "markdown",
   "metadata": {},
   "source": [
    "# graph"
   ]
  },
  {
   "cell_type": "code",
   "execution_count": 81,
   "metadata": {},
   "outputs": [],
   "source": [
    "mood_graph_pre = fish[(fish.environment == \"pre_mood\")]\n"
   ]
  },
  {
   "cell_type": "code",
   "execution_count": 82,
   "metadata": {},
   "outputs": [],
   "source": [
    "# mood graph\n",
    "mood_graph_post = fish[(fish.environment == \"post_mood\")]\n",
    "g = mood_graph_post.groupby([\"environment\",\"mood\",\"price_displayed\"])['latency'].mean().reset_index()\n"
   ]
  },
  {
   "cell_type": "code",
   "execution_count": 83,
   "metadata": {},
   "outputs": [
    {
     "data": {
      "text/html": [
       "<div>\n",
       "<style scoped>\n",
       "    .dataframe tbody tr th:only-of-type {\n",
       "        vertical-align: middle;\n",
       "    }\n",
       "\n",
       "    .dataframe tbody tr th {\n",
       "        vertical-align: top;\n",
       "    }\n",
       "\n",
       "    .dataframe thead th {\n",
       "        text-align: right;\n",
       "    }\n",
       "</style>\n",
       "<table border=\"1\" class=\"dataframe\">\n",
       "  <thead>\n",
       "    <tr style=\"text-align: right;\">\n",
       "      <th></th>\n",
       "      <th>environment</th>\n",
       "      <th>mood</th>\n",
       "      <th>price_displayed</th>\n",
       "      <th>latency</th>\n",
       "    </tr>\n",
       "  </thead>\n",
       "  <tbody>\n",
       "    <tr>\n",
       "      <td>0</td>\n",
       "      <td>post_mood</td>\n",
       "      <td>pos</td>\n",
       "      <td>0.100</td>\n",
       "      <td>175.040</td>\n",
       "    </tr>\n",
       "    <tr>\n",
       "      <td>1</td>\n",
       "      <td>post_mood</td>\n",
       "      <td>pos</td>\n",
       "      <td>0.400</td>\n",
       "      <td>173.463</td>\n",
       "    </tr>\n",
       "    <tr>\n",
       "      <td>2</td>\n",
       "      <td>post_mood</td>\n",
       "      <td>pos</td>\n",
       "      <td>1.000</td>\n",
       "      <td>170.710</td>\n",
       "    </tr>\n",
       "    <tr>\n",
       "      <td>3</td>\n",
       "      <td>post_mood</td>\n",
       "      <td>pos</td>\n",
       "      <td>2.500</td>\n",
       "      <td>175.793</td>\n",
       "    </tr>\n",
       "  </tbody>\n",
       "</table>\n",
       "</div>"
      ],
      "text/plain": [
       "  environment mood  price_displayed  latency\n",
       "0   post_mood  pos            0.100  175.040\n",
       "1   post_mood  pos            0.400  173.463\n",
       "2   post_mood  pos            1.000  170.710\n",
       "3   post_mood  pos            2.500  175.793"
      ]
     },
     "execution_count": 83,
     "metadata": {},
     "output_type": "execute_result"
    }
   ],
   "source": [
    "g"
   ]
  },
  {
   "cell_type": "code",
   "execution_count": 84,
   "metadata": {},
   "outputs": [],
   "source": [
    "price = [0.1, 0.6,2.5, 6.0]\n",
    "# latency_p = g.latency[(g.mood == 'pos')]\n",
    "# latency_n = g.latency[(g.mood == 'neg')]"
   ]
  },
  {
   "cell_type": "code",
   "execution_count": 85,
   "metadata": {},
   "outputs": [
    {
     "data": {
      "text/plain": [
       "19"
      ]
     },
     "execution_count": 85,
     "metadata": {},
     "output_type": "execute_result"
    }
   ],
   "source": [
    "data.Subject.nunique()"
   ]
  },
  {
   "cell_type": "code",
   "execution_count": 87,
   "metadata": {},
   "outputs": [
    {
     "data": {
      "image/png": "[encoded data removed]",
      "text/plain": [
       "<Figure size 432x288 with 1 Axes>"
      ]
     },
     "metadata": {
      "needs_background": "light"
     },
     "output_type": "display_data"
    }
   ],
   "source": [
    "# plt.plot( price,  latency_pre_n, marker='', color='purple', linewidth=2, label = \"pre-mood\")\n",
    "# plt.plot( price, latency_n, marker='', color='black', linewidth=2, linestyle='dashed', label=\"post-mood\")\n",
    "\n",
    "sns.lineplot(\"price_displayed\", \"latency\", marker='o', color='purple', data = mood_graph_pre,label = \"pre\", err_style='bars')\n",
    "sns.lineplot(\"price_displayed\", \"latency\", marker='o', color='black', data = mood_graph_post,label = \"post\", err_style='bars')\n",
    "\n",
    "\n",
    "plt.title(\"Action Initiation Latency after POSITIVE Mood Manipulation (n = 19)\")\n",
    "plt.xlabel(\"Price\")\n",
    "plt.ylabel(\"Average Latency (ms)\")\n",
    "plt.legend()\n",
    "plt.ylim([135, 215])\n",
    "plt.savefig('price_latency_no_wof_mood.png', transparent=True, dpi=300)\n"
   ]
  },
  {
   "cell_type": "code",
   "execution_count": 88,
   "metadata": {},
   "outputs": [
    {
     "data": {
      "text/plain": [
       "<matplotlib.legend.Legend at 0x120c897b8>"
      ]
     },
     "execution_count": 88,
     "metadata": {},
     "output_type": "execute_result"
    },
    {
     "data": {
      "image/png": "[encoded data removed]",
      "text/plain": [
       "<Figure size 432x288 with 1 Axes>"
      ]
     },
     "metadata": {
      "needs_background": "light"
     },
     "output_type": "display_data"
    }
   ],
   "source": [
    "latency_pre_n = mood_graph_pre.groupby([\"price_displayed\"])[\"latency\"].median()\n",
    "latency_n = mood_graph_post.groupby([\"price_displayed\"])[\"latency\"].median()\n",
    "price = [0.1, 0.4, 1, 2.5]\n",
    "plt.plot( price,  latency_pre_n, marker='', color='purple', linewidth=2, label = \"pre-mood\")\n",
    "plt.plot( price, latency_n, marker='', color='black', linewidth=2, linestyle='dashed', label=\"post-mood\")\n",
    "\n",
    "plt.legend()\n",
    "\n"
   ]
  },
  {
   "cell_type": "markdown",
   "metadata": {},
   "source": [
    "# Rating"
   ]
  },
  {
   "cell_type": "code",
   "execution_count": 89,
   "metadata": {},
   "outputs": [],
   "source": [
    "# response\n",
    "rating = data[(data.task == \"mood_rating_pos\")|(data.task == \"mood_rating_neg\")]\n"
   ]
  },
  {
   "cell_type": "code",
   "execution_count": 90,
   "metadata": {},
   "outputs": [
    {
     "name": "stderr",
     "output_type": "stream",
     "text": [
      "/Library/Frameworks/Python.framework/Versions/3.6/lib/python3.6/site-packages/ipykernel_launcher.py:1: SettingWithCopyWarning: \n",
      "A value is trying to be set on a copy of a slice from a DataFrame.\n",
      "Try using .loc[row_indexer,col_indexer] = value instead\n",
      "\n",
      "See the caveats in the documentation: http://pandas.pydata.org/pandas-docs/stable/user_guide/indexing.html#returning-a-view-versus-a-copy\n",
      "  \"\"\"Entry point for launching an IPython kernel.\n"
     ]
    }
   ],
   "source": [
    "rating[\"index\"]=[1]*len(rating)\n"
   ]
  },
  {
   "cell_type": "code",
   "execution_count": 91,
   "metadata": {},
   "outputs": [
    {
     "data": {
      "text/html": [
       "<div>\n",
       "<style scoped>\n",
       "    .dataframe tbody tr th:only-of-type {\n",
       "        vertical-align: middle;\n",
       "    }\n",
       "\n",
       "    .dataframe tbody tr th {\n",
       "        vertical-align: top;\n",
       "    }\n",
       "\n",
       "    .dataframe thead th {\n",
       "        text-align: right;\n",
       "    }\n",
       "</style>\n",
       "<table border=\"1\" class=\"dataframe\">\n",
       "  <thead>\n",
       "    <tr style=\"text-align: right;\">\n",
       "      <th></th>\n",
       "      <th>Unnamed: 0</th>\n",
       "      <th>index_x</th>\n",
       "      <th>Subject</th>\n",
       "      <th>UTC Timestamp</th>\n",
       "      <th>key pressed</th>\n",
       "      <th>price_displayed</th>\n",
       "      <th>environment</th>\n",
       "      <th>task</th>\n",
       "      <th>function id</th>\n",
       "      <th>builtin rt</th>\n",
       "      <th>end_time</th>\n",
       "      <th>start_time</th>\n",
       "      <th>response</th>\n",
       "      <th>round_instance</th>\n",
       "      <th>trial_label</th>\n",
       "      <th>environment_binary</th>\n",
       "      <th>mood</th>\n",
       "      <th>latency</th>\n",
       "      <th>level_0</th>\n",
       "      <th>index_y</th>\n",
       "    </tr>\n",
       "  </thead>\n",
       "  <tbody>\n",
       "    <tr>\n",
       "      <td>0</td>\n",
       "      <td>252</td>\n",
       "      <td>1</td>\n",
       "      <td>1991090.000</td>\n",
       "      <td>1600796464848.000</td>\n",
       "      <td>nan</td>\n",
       "      <td>nan</td>\n",
       "      <td>pre_mood</td>\n",
       "      <td>mood_rating_pos</td>\n",
       "      <td>mood_rating_pos</td>\n",
       "      <td>nan</td>\n",
       "      <td>nan</td>\n",
       "      <td>nan</td>\n",
       "      <td>64.000</td>\n",
       "      <td>4.000</td>\n",
       "      <td>pre_mood 4.0</td>\n",
       "      <td>0</td>\n",
       "      <td>pos</td>\n",
       "      <td>nan</td>\n",
       "      <td>227</td>\n",
       "      <td>1</td>\n",
       "    </tr>\n",
       "    <tr>\n",
       "      <td>1</td>\n",
       "      <td>514</td>\n",
       "      <td>1</td>\n",
       "      <td>1991090.000</td>\n",
       "      <td>1600796511500.000</td>\n",
       "      <td>nan</td>\n",
       "      <td>nan</td>\n",
       "      <td>pre_mood</td>\n",
       "      <td>mood_rating_pos</td>\n",
       "      <td>mood_rating_pos</td>\n",
       "      <td>nan</td>\n",
       "      <td>nan</td>\n",
       "      <td>nan</td>\n",
       "      <td>63.000</td>\n",
       "      <td>8.000</td>\n",
       "      <td>pre_mood 8.0</td>\n",
       "      <td>0</td>\n",
       "      <td>pos</td>\n",
       "      <td>nan</td>\n",
       "      <td>464</td>\n",
       "      <td>2</td>\n",
       "    </tr>\n",
       "    <tr>\n",
       "      <td>2</td>\n",
       "      <td>755</td>\n",
       "      <td>1</td>\n",
       "      <td>1991090.000</td>\n",
       "      <td>1600796559945.000</td>\n",
       "      <td>nan</td>\n",
       "      <td>nan</td>\n",
       "      <td>pre_mood</td>\n",
       "      <td>mood_rating_pos</td>\n",
       "      <td>mood_rating_pos</td>\n",
       "      <td>nan</td>\n",
       "      <td>nan</td>\n",
       "      <td>nan</td>\n",
       "      <td>64.000</td>\n",
       "      <td>12.000</td>\n",
       "      <td>pre_mood 12.0</td>\n",
       "      <td>0</td>\n",
       "      <td>pos</td>\n",
       "      <td>nan</td>\n",
       "      <td>682</td>\n",
       "      <td>3</td>\n",
       "    </tr>\n",
       "    <tr>\n",
       "      <td>3</td>\n",
       "      <td>989</td>\n",
       "      <td>1</td>\n",
       "      <td>1991090.000</td>\n",
       "      <td>1600796659374.000</td>\n",
       "      <td>nan</td>\n",
       "      <td>nan</td>\n",
       "      <td>post_mood</td>\n",
       "      <td>mood_rating_pos</td>\n",
       "      <td>mood_rating_pos</td>\n",
       "      <td>nan</td>\n",
       "      <td>nan</td>\n",
       "      <td>nan</td>\n",
       "      <td>65.000</td>\n",
       "      <td>4.000</td>\n",
       "      <td>post_mood 4.0</td>\n",
       "      <td>1</td>\n",
       "      <td>pos</td>\n",
       "      <td>nan</td>\n",
       "      <td>885</td>\n",
       "      <td>1</td>\n",
       "    </tr>\n",
       "    <tr>\n",
       "      <td>4</td>\n",
       "      <td>1208</td>\n",
       "      <td>1</td>\n",
       "      <td>1991090.000</td>\n",
       "      <td>1600796704730.000</td>\n",
       "      <td>nan</td>\n",
       "      <td>nan</td>\n",
       "      <td>post_mood</td>\n",
       "      <td>mood_rating_pos</td>\n",
       "      <td>mood_rating_pos</td>\n",
       "      <td>nan</td>\n",
       "      <td>nan</td>\n",
       "      <td>nan</td>\n",
       "      <td>64.000</td>\n",
       "      <td>8.000</td>\n",
       "      <td>post_mood 8.0</td>\n",
       "      <td>1</td>\n",
       "      <td>pos</td>\n",
       "      <td>nan</td>\n",
       "      <td>1079</td>\n",
       "      <td>2</td>\n",
       "    </tr>\n",
       "  </tbody>\n",
       "</table>\n",
       "</div>"
      ],
      "text/plain": [
       "   Unnamed: 0  index_x     Subject     UTC Timestamp  key pressed  \\\n",
       "0         252        1 1991090.000 1600796464848.000          nan   \n",
       "1         514        1 1991090.000 1600796511500.000          nan   \n",
       "2         755        1 1991090.000 1600796559945.000          nan   \n",
       "3         989        1 1991090.000 1600796659374.000          nan   \n",
       "4        1208        1 1991090.000 1600796704730.000          nan   \n",
       "\n",
       "   price_displayed environment             task      function id  builtin rt  \\\n",
       "0              nan    pre_mood  mood_rating_pos  mood_rating_pos         nan   \n",
       "1              nan    pre_mood  mood_rating_pos  mood_rating_pos         nan   \n",
       "2              nan    pre_mood  mood_rating_pos  mood_rating_pos         nan   \n",
       "3              nan   post_mood  mood_rating_pos  mood_rating_pos         nan   \n",
       "4              nan   post_mood  mood_rating_pos  mood_rating_pos         nan   \n",
       "\n",
       "   end_time  start_time  response  round_instance    trial_label  \\\n",
       "0       nan         nan    64.000           4.000   pre_mood 4.0   \n",
       "1       nan         nan    63.000           8.000   pre_mood 8.0   \n",
       "2       nan         nan    64.000          12.000  pre_mood 12.0   \n",
       "3       nan         nan    65.000           4.000  post_mood 4.0   \n",
       "4       nan         nan    64.000           8.000  post_mood 8.0   \n",
       "\n",
       "   environment_binary mood  latency  level_0  index_y  \n",
       "0                   0  pos      nan      227        1  \n",
       "1                   0  pos      nan      464        2  \n",
       "2                   0  pos      nan      682        3  \n",
       "3                   1  pos      nan      885        1  \n",
       "4                   1  pos      nan     1079        2  "
      ]
     },
     "execution_count": 91,
     "metadata": {},
     "output_type": "execute_result"
    }
   ],
   "source": [
    "i = rating.groupby([\"Subject\", \"environment\"])[\"index\"].cumsum().reset_index(name = \"index\")\n",
    "rating = pd.merge(rating, i, left_on=rating.index, right_on = \"level_0\", how = \"inner\")\n",
    "rating.head()"
   ]
  },
  {
   "cell_type": "code",
   "execution_count": 92,
   "metadata": {},
   "outputs": [],
   "source": [
    "rating.drop([\"index_x\", \"level_0\"], axis = 1, inplace = True)"
   ]
  },
  {
   "cell_type": "code",
   "execution_count": 93,
   "metadata": {},
   "outputs": [],
   "source": [
    "rating[\"mood\"] = rating[\"task\"].map({\"mood_rating_pos\":\"pos\",\n",
    "                                    \"mood_rating_neg\":\"neg\"})"
   ]
  },
  {
   "cell_type": "code",
   "execution_count": 94,
   "metadata": {},
   "outputs": [],
   "source": [
    "rating[\"name\"] = rating[\"Subject\"].astype(int).astype(str) + \" \" + rating[\"mood\"]\n"
   ]
  },
  {
   "cell_type": "code",
   "execution_count": 95,
   "metadata": {},
   "outputs": [],
   "source": [
    "# 1991118.000, 1991119.000,1991143.000, 1991165.000, 1991117.000 "
   ]
  },
  {
   "cell_type": "code",
   "execution_count": 96,
   "metadata": {},
   "outputs": [
    {
     "data": {
      "image/png": "[encoded data removed]",
      "text/plain": [
       "<Figure size 432x2160 with 19 Axes>"
      ]
     },
     "metadata": {
      "needs_background": "light"
     },
     "output_type": "display_data"
    }
   ],
   "source": [
    "r = sns.FacetGrid(rating, col=\"name\", col_wrap=2, height=3, ylim=(0, 100))\n",
    "r.map(sns.lineplot, \"index_y\", \"response\", \"environment\", marker=\"o\")\n",
    "for ax in r.axes.ravel():\n",
    "    ax.legend()\n",
    "    ax.set_ylabel(\"Rating\")\n",
    "    ax.set_xlabel(\"Rating Number\")\n",
    "    \n",
    "# plt.xlabel(\"Rating Number\")\n",
    "# plt.ylabel(\"Rating Number\")\n",
    "plt.xticks([1, 2, 3])\n",
    "plt.savefig(\"rating_by_subject_no_wof.png\", transparent=True, dpi=300)\n",
    "# g = sns.FacetGrid(plot, col=\"id\", col_wrap=4, height=2, ylim=(50, 300))\n",
    "# g.map(sns.lineplot,'price_displayed','average_latency', 'environment', palette = \"GnBu_d\", legend = 'full',\n",
    "#       err_style=\"bars\")\n",
    "\n"
   ]
  },
  {
   "cell_type": "code",
   "execution_count": 97,
   "metadata": {},
   "outputs": [
    {
     "data": {
      "image/png": "[encoded data removed]",
      "text/plain": [
       "<Figure size 432x288 with 1 Axes>"
      ]
     },
     "metadata": {
      "needs_background": "light"
     },
     "output_type": "display_data"
    }
   ],
   "source": [
    "sns.lineplot(\"index_y\", \"response\", \"environment\", markers=True, ci = None,marker = \"o\", data = rating)\n",
    "plt.xlabel(\"Rating Number\")\n",
    "plt.ylabel(\"Rating\")\n",
    "plt.xticks([1, 2, 3])\n",
    "plt.title(\"Mood Rating Pre and Post Mood Manipulation (n = 19)\")\n",
    "plt.savefig(\"no wof mood raitng\", dpi = 300, transparent = True)"
   ]
  },
  {
   "cell_type": "code",
   "execution_count": 98,
   "metadata": {},
   "outputs": [
    {
     "data": {
      "image/png": "[encoded data removed]",
      "text/plain": [
       "<Figure size 432x288 with 1 Axes>"
      ]
     },
     "metadata": {
      "needs_background": "light"
     },
     "output_type": "display_data"
    }
   ],
   "source": [
    "ax = sns.boxplot(x=\"index_y\", y=\"response\", hue=\"environment\",\n",
    "                 data=rating, palette=\"Set3\")\n",
    "ax.legend(loc = 1, bbox_to_anchor = (1.3, 0.5))\n",
    "plt.savefig(\"rating_boxplot.png\", dpi = 300, transparent = True, bbox_inches='tight')"
   ]
  },
  {
   "cell_type": "code",
   "execution_count": 66,
   "metadata": {},
   "outputs": [],
   "source": [
    "mean_rating = rating[rating.environment == \"pre_mood\"].groupby(\"Subject\").response.mean().reset_index(name = \"mean\")\n",
    "std_rating = rating[rating.environment == \"pre_mood\"].groupby(\"Subject\").response.std().reset_index(name = \"std\")\n",
    "\n"
   ]
  },
  {
   "cell_type": "code",
   "execution_count": 60,
   "metadata": {},
   "outputs": [],
   "source": [
    "stats_pre = pd.merge(mean_rating, std_rating, on = 'Subject', how = \"outer\")\n",
    "\n"
   ]
  },
  {
   "cell_type": "code",
   "execution_count": 65,
   "metadata": {},
   "outputs": [],
   "source": [
    "rating_post = rating[rating.environment == \"post_mood\"]"
   ]
  },
  {
   "cell_type": "code",
   "execution_count": 66,
   "metadata": {},
   "outputs": [],
   "source": [
    "rating_post = rating_post.sort_values(by = \"Subject\")\n",
    "stats_pre = stats_pre.sort_values(by = \"Subject\")"
   ]
  },
  {
   "cell_type": "code",
   "execution_count": 67,
   "metadata": {},
   "outputs": [],
   "source": [
    "c = 0\n",
    "z_scored = []\n",
    "for s in stats_pre.Subject:\n",
    "    subject = rating_post[rating_post.Subject == s]\n",
    "    mean = stats_pre[stats_pre.Subject == s][\"mean\"][c]\n",
    "    std = stats_pre[stats_pre.Subject == s][\"std\"][c]\n",
    "    series = (subject.response - mean)/std\n",
    "    z_scored.extend(series)\n",
    "    c = c + 1\n"
   ]
  },
  {
   "cell_type": "code",
   "execution_count": 68,
   "metadata": {},
   "outputs": [],
   "source": [
    "rating_post[\"z_scored\"] = z_scored"
   ]
  },
  {
   "cell_type": "code",
   "execution_count": 69,
   "metadata": {},
   "outputs": [],
   "source": [
    "# rating_post\n",
    "#1932474.000 # rated all 100\n",
    "#1932604.000 # rated all 100 expect for the one after mood manipulation for a 95"
   ]
  },
  {
   "cell_type": "code",
   "execution_count": 70,
   "metadata": {},
   "outputs": [],
   "source": [
    "# b = sns.FacetGrid(rating, col=\"mood\", col_order=[\"pos\", \"neg\"])\n",
    "# b = b.map(sns.lineplot, \"index_y\", \"response\",\"environment\", markers=True, ci = None)\n",
    "# plt.legend(loc='upper center', bbox_to_anchor=(1.45, 1), shadow=True)\n",
    "# axes = b.axes.flatten()\n",
    "# axes[0].set_title(\"mood = pos (n = 13)\")\n",
    "# axes[1].set_title(\"mood = neg (n = 16)\")\n",
    "    \n",
    "# plt.savefig(\"average_rating_29.png\", transparent = True, dpi = 300, bbox_inches='tight')"
   ]
  },
  {
   "cell_type": "code",
   "execution_count": 71,
   "metadata": {},
   "outputs": [],
   "source": [
    "# b = sns.FacetGrid(rating[rating.Subject != 1912556], col=\"mood\", col_order=[\"pos\", \"neg\"])\n",
    "# b = b.map(sns.lineplot, \"index_y\", \"response\",\"environment\", markers=True, ci = None)\n",
    "# plt.legend(loc='upper center', bbox_to_anchor=(1.45, 1), shadow=True)\n",
    "# axes = b.axes.flatten()\n",
    "# axes[0].set_title(\"mood = pos (n = 12)\")\n",
    "# axes[1].set_title(\"mood = neg (n = 16)\")\n",
    "    \n",
    "# plt.savefig(\"average_rating_28.png\", transparent = True, dpi = 300, bbox_inches='tight')\n"
   ]
  },
  {
   "cell_type": "markdown",
   "metadata": {},
   "source": [
    "# by subject plot"
   ]
  },
  {
   "cell_type": "code",
   "execution_count": 99,
   "metadata": {},
   "outputs": [
    {
     "data": {
      "text/html": [
       "<div>\n",
       "<style scoped>\n",
       "    .dataframe tbody tr th:only-of-type {\n",
       "        vertical-align: middle;\n",
       "    }\n",
       "\n",
       "    .dataframe tbody tr th {\n",
       "        vertical-align: top;\n",
       "    }\n",
       "\n",
       "    .dataframe thead th {\n",
       "        text-align: right;\n",
       "    }\n",
       "</style>\n",
       "<table border=\"1\" class=\"dataframe\">\n",
       "  <thead>\n",
       "    <tr style=\"text-align: right;\">\n",
       "      <th></th>\n",
       "      <th>Unnamed: 0</th>\n",
       "      <th>index</th>\n",
       "      <th>Subject</th>\n",
       "      <th>UTC Timestamp</th>\n",
       "      <th>key pressed</th>\n",
       "      <th>price_displayed</th>\n",
       "      <th>environment</th>\n",
       "      <th>task</th>\n",
       "      <th>function id</th>\n",
       "      <th>builtin rt</th>\n",
       "      <th>end_time</th>\n",
       "      <th>start_time</th>\n",
       "      <th>response</th>\n",
       "      <th>round_instance</th>\n",
       "      <th>trial_label</th>\n",
       "      <th>environment_binary</th>\n",
       "      <th>mood</th>\n",
       "      <th>latency</th>\n",
       "    </tr>\n",
       "  </thead>\n",
       "  <tbody>\n",
       "    <tr>\n",
       "      <td>0</td>\n",
       "      <td>5</td>\n",
       "      <td>5</td>\n",
       "      <td>1991090.000</td>\n",
       "      <td>1600796422016.000</td>\n",
       "      <td>40.000</td>\n",
       "      <td>0.400</td>\n",
       "      <td>pre_mood</td>\n",
       "      <td>fishing_pos</td>\n",
       "      <td>fishing_pos</td>\n",
       "      <td>430.010</td>\n",
       "      <td>1600796422728.000</td>\n",
       "      <td>1600796422295.000</td>\n",
       "      <td>64.000</td>\n",
       "      <td>1.000</td>\n",
       "      <td>pre_mood 1.0</td>\n",
       "      <td>0</td>\n",
       "      <td>pos</td>\n",
       "      <td>545.000</td>\n",
       "    </tr>\n",
       "  </tbody>\n",
       "</table>\n",
       "</div>"
      ],
      "text/plain": [
       "   Unnamed: 0  index     Subject     UTC Timestamp  key pressed  \\\n",
       "0           5      5 1991090.000 1600796422016.000       40.000   \n",
       "\n",
       "   price_displayed environment         task  function id  builtin rt  \\\n",
       "0            0.400    pre_mood  fishing_pos  fishing_pos     430.010   \n",
       "\n",
       "           end_time        start_time  response  round_instance   trial_label  \\\n",
       "0 1600796422728.000 1600796422295.000    64.000           1.000  pre_mood 1.0   \n",
       "\n",
       "   environment_binary mood  latency  \n",
       "0                   0  pos  545.000  "
      ]
     },
     "execution_count": 99,
     "metadata": {},
     "output_type": "execute_result"
    }
   ],
   "source": [
    "fish.head(1)\n",
    "# fish[\"title\"] = fish[\"Subject\"].astype(str) + \" \" + fish[\"mood\"]"
   ]
  },
  {
   "cell_type": "code",
   "execution_count": 100,
   "metadata": {},
   "outputs": [],
   "source": [
    "sum_rating = rating.groupby([\"Subject\", \"environment\"])[\"response\"].mean().reset_index(name = \"avg_rating\")"
   ]
  },
  {
   "cell_type": "code",
   "execution_count": 101,
   "metadata": {},
   "outputs": [],
   "source": [
    "sum_rating[\"diff\"] = sum_rating.groupby(\"Subject\")[\"avg_rating\"].diff(periods=-1)"
   ]
  },
  {
   "cell_type": "code",
   "execution_count": 102,
   "metadata": {},
   "outputs": [],
   "source": [
    "sum_rating = sum_rating.dropna()"
   ]
  },
  {
   "cell_type": "code",
   "execution_count": 103,
   "metadata": {},
   "outputs": [
    {
     "data": {
      "text/html": [
       "<div>\n",
       "<style scoped>\n",
       "    .dataframe tbody tr th:only-of-type {\n",
       "        vertical-align: middle;\n",
       "    }\n",
       "\n",
       "    .dataframe tbody tr th {\n",
       "        vertical-align: top;\n",
       "    }\n",
       "\n",
       "    .dataframe thead th {\n",
       "        text-align: right;\n",
       "    }\n",
       "</style>\n",
       "<table border=\"1\" class=\"dataframe\">\n",
       "  <thead>\n",
       "    <tr style=\"text-align: right;\">\n",
       "      <th></th>\n",
       "      <th>Subject</th>\n",
       "      <th>environment</th>\n",
       "      <th>avg_rating</th>\n",
       "      <th>diff</th>\n",
       "    </tr>\n",
       "  </thead>\n",
       "  <tbody>\n",
       "    <tr>\n",
       "      <td>0</td>\n",
       "      <td>1991090.000</td>\n",
       "      <td>post_mood</td>\n",
       "      <td>64.333</td>\n",
       "      <td>0.667</td>\n",
       "    </tr>\n",
       "    <tr>\n",
       "      <td>2</td>\n",
       "      <td>1991106.000</td>\n",
       "      <td>post_mood</td>\n",
       "      <td>78.000</td>\n",
       "      <td>21.000</td>\n",
       "    </tr>\n",
       "    <tr>\n",
       "      <td>4</td>\n",
       "      <td>1991108.000</td>\n",
       "      <td>post_mood</td>\n",
       "      <td>47.333</td>\n",
       "      <td>-1.000</td>\n",
       "    </tr>\n",
       "    <tr>\n",
       "      <td>6</td>\n",
       "      <td>1991110.000</td>\n",
       "      <td>post_mood</td>\n",
       "      <td>100.000</td>\n",
       "      <td>0.000</td>\n",
       "    </tr>\n",
       "    <tr>\n",
       "      <td>8</td>\n",
       "      <td>1991122.000</td>\n",
       "      <td>post_mood</td>\n",
       "      <td>60.667</td>\n",
       "      <td>-24.333</td>\n",
       "    </tr>\n",
       "    <tr>\n",
       "      <td>10</td>\n",
       "      <td>1991126.000</td>\n",
       "      <td>post_mood</td>\n",
       "      <td>45.333</td>\n",
       "      <td>-25.667</td>\n",
       "    </tr>\n",
       "    <tr>\n",
       "      <td>12</td>\n",
       "      <td>1991128.000</td>\n",
       "      <td>post_mood</td>\n",
       "      <td>47.000</td>\n",
       "      <td>-1.333</td>\n",
       "    </tr>\n",
       "    <tr>\n",
       "      <td>14</td>\n",
       "      <td>1991132.000</td>\n",
       "      <td>post_mood</td>\n",
       "      <td>98.000</td>\n",
       "      <td>-2.000</td>\n",
       "    </tr>\n",
       "    <tr>\n",
       "      <td>16</td>\n",
       "      <td>1991139.000</td>\n",
       "      <td>post_mood</td>\n",
       "      <td>52.000</td>\n",
       "      <td>0.333</td>\n",
       "    </tr>\n",
       "    <tr>\n",
       "      <td>18</td>\n",
       "      <td>1991163.000</td>\n",
       "      <td>post_mood</td>\n",
       "      <td>79.667</td>\n",
       "      <td>-11.667</td>\n",
       "    </tr>\n",
       "    <tr>\n",
       "      <td>20</td>\n",
       "      <td>1991167.000</td>\n",
       "      <td>post_mood</td>\n",
       "      <td>48.000</td>\n",
       "      <td>-18.000</td>\n",
       "    </tr>\n",
       "    <tr>\n",
       "      <td>22</td>\n",
       "      <td>1991176.000</td>\n",
       "      <td>post_mood</td>\n",
       "      <td>33.000</td>\n",
       "      <td>-11.333</td>\n",
       "    </tr>\n",
       "    <tr>\n",
       "      <td>24</td>\n",
       "      <td>1991177.000</td>\n",
       "      <td>post_mood</td>\n",
       "      <td>70.333</td>\n",
       "      <td>0.667</td>\n",
       "    </tr>\n",
       "    <tr>\n",
       "      <td>26</td>\n",
       "      <td>1991180.000</td>\n",
       "      <td>post_mood</td>\n",
       "      <td>50.000</td>\n",
       "      <td>-1.333</td>\n",
       "    </tr>\n",
       "    <tr>\n",
       "      <td>28</td>\n",
       "      <td>1991422.000</td>\n",
       "      <td>post_mood</td>\n",
       "      <td>89.000</td>\n",
       "      <td>1.667</td>\n",
       "    </tr>\n",
       "    <tr>\n",
       "      <td>30</td>\n",
       "      <td>1991522.000</td>\n",
       "      <td>post_mood</td>\n",
       "      <td>23.333</td>\n",
       "      <td>6.000</td>\n",
       "    </tr>\n",
       "    <tr>\n",
       "      <td>32</td>\n",
       "      <td>1991576.000</td>\n",
       "      <td>post_mood</td>\n",
       "      <td>67.000</td>\n",
       "      <td>-4.333</td>\n",
       "    </tr>\n",
       "    <tr>\n",
       "      <td>34</td>\n",
       "      <td>1991873.000</td>\n",
       "      <td>post_mood</td>\n",
       "      <td>55.667</td>\n",
       "      <td>-6.667</td>\n",
       "    </tr>\n",
       "    <tr>\n",
       "      <td>36</td>\n",
       "      <td>1991874.000</td>\n",
       "      <td>post_mood</td>\n",
       "      <td>55.000</td>\n",
       "      <td>-32.667</td>\n",
       "    </tr>\n",
       "  </tbody>\n",
       "</table>\n",
       "</div>"
      ],
      "text/plain": [
       "       Subject environment  avg_rating    diff\n",
       "0  1991090.000   post_mood      64.333   0.667\n",
       "2  1991106.000   post_mood      78.000  21.000\n",
       "4  1991108.000   post_mood      47.333  -1.000\n",
       "6  1991110.000   post_mood     100.000   0.000\n",
       "8  1991122.000   post_mood      60.667 -24.333\n",
       "10 1991126.000   post_mood      45.333 -25.667\n",
       "12 1991128.000   post_mood      47.000  -1.333\n",
       "14 1991132.000   post_mood      98.000  -2.000\n",
       "16 1991139.000   post_mood      52.000   0.333\n",
       "18 1991163.000   post_mood      79.667 -11.667\n",
       "20 1991167.000   post_mood      48.000 -18.000\n",
       "22 1991176.000   post_mood      33.000 -11.333\n",
       "24 1991177.000   post_mood      70.333   0.667\n",
       "26 1991180.000   post_mood      50.000  -1.333\n",
       "28 1991422.000   post_mood      89.000   1.667\n",
       "30 1991522.000   post_mood      23.333   6.000\n",
       "32 1991576.000   post_mood      67.000  -4.333\n",
       "34 1991873.000   post_mood      55.667  -6.667\n",
       "36 1991874.000   post_mood      55.000 -32.667"
      ]
     },
     "execution_count": 103,
     "metadata": {},
     "output_type": "execute_result"
    }
   ],
   "source": [
    "sum_rating"
   ]
  },
  {
   "cell_type": "code",
   "execution_count": 104,
   "metadata": {},
   "outputs": [],
   "source": [
    "fish = fish.merge(sum_rating[[\"Subject\", \"diff\"]], on = \"Subject\", how = \"left\")"
   ]
  },
  {
   "cell_type": "code",
   "execution_count": 105,
   "metadata": {},
   "outputs": [],
   "source": [
    "fish = fish.sort_values(by = \"diff\")"
   ]
  },
  {
   "cell_type": "code",
   "execution_count": 106,
   "metadata": {},
   "outputs": [],
   "source": [
    "fish[\"title\"] = fish[\"Subject\"].astype(str) + \" post-pre: \" + fish[\"diff\"].round(2).astype(str)"
   ]
  },
  {
   "cell_type": "code",
   "execution_count": 107,
   "metadata": {},
   "outputs": [
    {
     "data": {
      "image/png": "[encoded data removed]",
      "text/plain": [
       "<Figure size 432x2160 with 19 Axes>"
      ]
     },
     "metadata": {
      "needs_background": "light"
     },
     "output_type": "display_data"
    }
   ],
   "source": [
    "r = sns.FacetGrid(fish, col=\"title\", col_wrap=2, height=3, ylim = ([100, 280]))\n",
    "r.map(sns.lineplot, \"price_displayed\", \"latency\", \"environment\", marker=\"o\", err_style='bars', hue_order = [\"pre_mood\", \"post_mood\"])\n",
    "for ax in r.axes.ravel():\n",
    "    ax.legend(loc='upper center')\n",
    "plt.legend(loc='upper center', bbox_to_anchor=(1.2, 0.9), shadow=True)\n",
    "plt.savefig(\"latency_by_subject_ordered_no_wof.png\", transparent=True, dpi=300, bbox_inches='tight')\n",
    "plt.show()"
   ]
  },
  {
   "cell_type": "markdown",
   "metadata": {},
   "source": [
    "# tap difference"
   ]
  },
  {
   "cell_type": "code",
   "execution_count": 85,
   "metadata": {},
   "outputs": [],
   "source": [
    "tap = fish.groupby([\"Subject\", \"environment\"]).size().reset_index(name = \"tap\")"
   ]
  },
  {
   "cell_type": "code",
   "execution_count": 86,
   "metadata": {},
   "outputs": [],
   "source": [
    "t = tap.groupby(\"Subject\").tap.diff(periods = -1)"
   ]
  },
  {
   "cell_type": "code",
   "execution_count": 87,
   "metadata": {},
   "outputs": [],
   "source": [
    "tap[\"tap_diff\"] = t"
   ]
  },
  {
   "cell_type": "code",
   "execution_count": 88,
   "metadata": {},
   "outputs": [],
   "source": [
    "tap = tap.dropna()"
   ]
  },
  {
   "cell_type": "code",
   "execution_count": 89,
   "metadata": {},
   "outputs": [],
   "source": [
    "rating_tap_diff = pd.merge(sum_rating, tap[[\"Subject\", \"tap_diff\"]], on = \"Subject\")"
   ]
  },
  {
   "cell_type": "code",
   "execution_count": 90,
   "metadata": {},
   "outputs": [
    {
     "data": {
      "text/plain": [
       "SpearmanrResult(correlation=0.20086261384893134, pvalue=0.29611818368126896)"
      ]
     },
     "execution_count": 90,
     "metadata": {},
     "output_type": "execute_result"
    }
   ],
   "source": [
    "ss.spearmanr(rating_tap_diff[\"diff\"], rating_tap_diff[\"tap_diff\"])"
   ]
  },
  {
   "cell_type": "markdown",
   "metadata": {},
   "source": [
    "## Robb's version"
   ]
  },
  {
   "cell_type": "code",
   "execution_count": 119,
   "metadata": {},
   "outputs": [],
   "source": [
    "# rating_post\n",
    "#1932474.000 # rated all 100\n",
    "#1932604.000 # rated all 100 expect for the one after mood manipulation for a 95\n",
    "rating_post = rating_post[~rating_post.Subject.isin([1932474.000, 1932604.000])]\n",
    "tap = tap[~tap.Subject.isin([1932474.000, 1932604.000])]\n"
   ]
  },
  {
   "cell_type": "code",
   "execution_count": 128,
   "metadata": {},
   "outputs": [],
   "source": [
    "m = rating_post.groupby(\"Subject\").z_scored.mean().reset_index(name = 'm_zscored')\n",
    "tap = pd.merge(tap, m, on = \"Subject\", how = \"outer\")"
   ]
  },
  {
   "cell_type": "code",
   "execution_count": 133,
   "metadata": {},
   "outputs": [
    {
     "data": {
      "text/plain": [
       "SpearmanrResult(correlation=0.16153321006257568, pvalue=0.4115341340777794)"
      ]
     },
     "execution_count": 133,
     "metadata": {},
     "output_type": "execute_result"
    }
   ],
   "source": [
    "ss.spearmanr(tap[\"tap_diff\"], tap[\"m_zscored\"])"
   ]
  },
  {
   "cell_type": "markdown",
   "metadata": {},
   "source": [
    "# Mood change and HPS"
   ]
  },
  {
   "cell_type": "code",
   "execution_count": 137,
   "metadata": {},
   "outputs": [],
   "source": [
    "hps = pd.read_csv(\"/Users/SophieS/Desktop/hps_neg.csv\")"
   ]
  },
  {
   "cell_type": "code",
   "execution_count": 138,
   "metadata": {},
   "outputs": [],
   "source": [
    "hps = hps.merge(tap, on = \"Subject\")"
   ]
  },
  {
   "cell_type": "code",
   "execution_count": 143,
   "metadata": {},
   "outputs": [
    {
     "data": {
      "text/html": [
       "<div>\n",
       "<style scoped>\n",
       "    .dataframe tbody tr th:only-of-type {\n",
       "        vertical-align: middle;\n",
       "    }\n",
       "\n",
       "    .dataframe tbody tr th {\n",
       "        vertical-align: top;\n",
       "    }\n",
       "\n",
       "    .dataframe thead th {\n",
       "        text-align: right;\n",
       "    }\n",
       "</style>\n",
       "<table border=\"1\" class=\"dataframe\">\n",
       "  <thead>\n",
       "    <tr style=\"text-align: right;\">\n",
       "      <th></th>\n",
       "      <th>Unnamed: 0</th>\n",
       "      <th>Subject</th>\n",
       "      <th>score</th>\n",
       "      <th>environment</th>\n",
       "      <th>tap</th>\n",
       "      <th>tap_diff</th>\n",
       "      <th>m_zscored</th>\n",
       "    </tr>\n",
       "  </thead>\n",
       "  <tbody>\n",
       "    <tr>\n",
       "      <td>0</td>\n",
       "      <td>0</td>\n",
       "      <td>1932451.000</td>\n",
       "      <td>2.500</td>\n",
       "      <td>post_mood</td>\n",
       "      <td>694</td>\n",
       "      <td>91.000</td>\n",
       "      <td>-2.127</td>\n",
       "    </tr>\n",
       "    <tr>\n",
       "      <td>1</td>\n",
       "      <td>1</td>\n",
       "      <td>1932455.000</td>\n",
       "      <td>3.417</td>\n",
       "      <td>post_mood</td>\n",
       "      <td>781</td>\n",
       "      <td>-21.000</td>\n",
       "      <td>-2.598</td>\n",
       "    </tr>\n",
       "    <tr>\n",
       "      <td>2</td>\n",
       "      <td>2</td>\n",
       "      <td>1932457.000</td>\n",
       "      <td>2.917</td>\n",
       "      <td>post_mood</td>\n",
       "      <td>735</td>\n",
       "      <td>27.000</td>\n",
       "      <td>-1.574</td>\n",
       "    </tr>\n",
       "    <tr>\n",
       "      <td>3</td>\n",
       "      <td>3</td>\n",
       "      <td>1932462.000</td>\n",
       "      <td>2.167</td>\n",
       "      <td>post_mood</td>\n",
       "      <td>693</td>\n",
       "      <td>-9.000</td>\n",
       "      <td>0.555</td>\n",
       "    </tr>\n",
       "    <tr>\n",
       "      <td>4</td>\n",
       "      <td>4</td>\n",
       "      <td>1932463.000</td>\n",
       "      <td>1.750</td>\n",
       "      <td>post_mood</td>\n",
       "      <td>771</td>\n",
       "      <td>20.000</td>\n",
       "      <td>1.601</td>\n",
       "    </tr>\n",
       "    <tr>\n",
       "      <td>5</td>\n",
       "      <td>6</td>\n",
       "      <td>1932490.000</td>\n",
       "      <td>3.333</td>\n",
       "      <td>post_mood</td>\n",
       "      <td>688</td>\n",
       "      <td>-14.000</td>\n",
       "      <td>-1.994</td>\n",
       "    </tr>\n",
       "    <tr>\n",
       "      <td>6</td>\n",
       "      <td>7</td>\n",
       "      <td>1932493.000</td>\n",
       "      <td>1.667</td>\n",
       "      <td>post_mood</td>\n",
       "      <td>731</td>\n",
       "      <td>-13.000</td>\n",
       "      <td>-5.000</td>\n",
       "    </tr>\n",
       "    <tr>\n",
       "      <td>7</td>\n",
       "      <td>8</td>\n",
       "      <td>1932507.000</td>\n",
       "      <td>3.083</td>\n",
       "      <td>post_mood</td>\n",
       "      <td>616</td>\n",
       "      <td>-75.000</td>\n",
       "      <td>-4.500</td>\n",
       "    </tr>\n",
       "    <tr>\n",
       "      <td>8</td>\n",
       "      <td>9</td>\n",
       "      <td>1932509.000</td>\n",
       "      <td>3.083</td>\n",
       "      <td>post_mood</td>\n",
       "      <td>778</td>\n",
       "      <td>11.000</td>\n",
       "      <td>0.218</td>\n",
       "    </tr>\n",
       "    <tr>\n",
       "      <td>9</td>\n",
       "      <td>10</td>\n",
       "      <td>1932510.000</td>\n",
       "      <td>3.250</td>\n",
       "      <td>post_mood</td>\n",
       "      <td>655</td>\n",
       "      <td>-56.000</td>\n",
       "      <td>-1.763</td>\n",
       "    </tr>\n",
       "    <tr>\n",
       "      <td>10</td>\n",
       "      <td>11</td>\n",
       "      <td>1932515.000</td>\n",
       "      <td>2.000</td>\n",
       "      <td>post_mood</td>\n",
       "      <td>795</td>\n",
       "      <td>43.000</td>\n",
       "      <td>-1.443</td>\n",
       "    </tr>\n",
       "    <tr>\n",
       "      <td>11</td>\n",
       "      <td>12</td>\n",
       "      <td>1932516.000</td>\n",
       "      <td>1.417</td>\n",
       "      <td>post_mood</td>\n",
       "      <td>577</td>\n",
       "      <td>-105.000</td>\n",
       "      <td>-3.603</td>\n",
       "    </tr>\n",
       "    <tr>\n",
       "      <td>12</td>\n",
       "      <td>13</td>\n",
       "      <td>1932518.000</td>\n",
       "      <td>1.750</td>\n",
       "      <td>post_mood</td>\n",
       "      <td>641</td>\n",
       "      <td>-50.000</td>\n",
       "      <td>0.431</td>\n",
       "    </tr>\n",
       "    <tr>\n",
       "      <td>13</td>\n",
       "      <td>14</td>\n",
       "      <td>1932520.000</td>\n",
       "      <td>3.167</td>\n",
       "      <td>post_mood</td>\n",
       "      <td>532</td>\n",
       "      <td>-33.000</td>\n",
       "      <td>-4.667</td>\n",
       "    </tr>\n",
       "    <tr>\n",
       "      <td>14</td>\n",
       "      <td>15</td>\n",
       "      <td>1932521.000</td>\n",
       "      <td>2.083</td>\n",
       "      <td>post_mood</td>\n",
       "      <td>563</td>\n",
       "      <td>-42.000</td>\n",
       "      <td>-1.606</td>\n",
       "    </tr>\n",
       "    <tr>\n",
       "      <td>15</td>\n",
       "      <td>16</td>\n",
       "      <td>1932522.000</td>\n",
       "      <td>3.583</td>\n",
       "      <td>post_mood</td>\n",
       "      <td>684</td>\n",
       "      <td>19.000</td>\n",
       "      <td>-5.563</td>\n",
       "    </tr>\n",
       "    <tr>\n",
       "      <td>16</td>\n",
       "      <td>17</td>\n",
       "      <td>1932544.000</td>\n",
       "      <td>2.000</td>\n",
       "      <td>post_mood</td>\n",
       "      <td>786</td>\n",
       "      <td>34.000</td>\n",
       "      <td>-1.960</td>\n",
       "    </tr>\n",
       "    <tr>\n",
       "      <td>17</td>\n",
       "      <td>18</td>\n",
       "      <td>1932546.000</td>\n",
       "      <td>2.667</td>\n",
       "      <td>post_mood</td>\n",
       "      <td>678</td>\n",
       "      <td>31.000</td>\n",
       "      <td>0.577</td>\n",
       "    </tr>\n",
       "    <tr>\n",
       "      <td>18</td>\n",
       "      <td>19</td>\n",
       "      <td>1932547.000</td>\n",
       "      <td>3.250</td>\n",
       "      <td>post_mood</td>\n",
       "      <td>654</td>\n",
       "      <td>-23.000</td>\n",
       "      <td>-1.354</td>\n",
       "    </tr>\n",
       "    <tr>\n",
       "      <td>19</td>\n",
       "      <td>20</td>\n",
       "      <td>1932550.000</td>\n",
       "      <td>3.000</td>\n",
       "      <td>post_mood</td>\n",
       "      <td>23</td>\n",
       "      <td>-1.000</td>\n",
       "      <td>1.155</td>\n",
       "    </tr>\n",
       "    <tr>\n",
       "      <td>20</td>\n",
       "      <td>21</td>\n",
       "      <td>1932560.000</td>\n",
       "      <td>3.917</td>\n",
       "      <td>post_mood</td>\n",
       "      <td>832</td>\n",
       "      <td>-1.000</td>\n",
       "      <td>-2.033</td>\n",
       "    </tr>\n",
       "    <tr>\n",
       "      <td>21</td>\n",
       "      <td>22</td>\n",
       "      <td>1932571.000</td>\n",
       "      <td>1.583</td>\n",
       "      <td>post_mood</td>\n",
       "      <td>670</td>\n",
       "      <td>-36.000</td>\n",
       "      <td>-0.609</td>\n",
       "    </tr>\n",
       "    <tr>\n",
       "      <td>22</td>\n",
       "      <td>23</td>\n",
       "      <td>1932591.000</td>\n",
       "      <td>2.583</td>\n",
       "      <td>post_mood</td>\n",
       "      <td>701</td>\n",
       "      <td>-22.000</td>\n",
       "      <td>-0.801</td>\n",
       "    </tr>\n",
       "    <tr>\n",
       "      <td>23</td>\n",
       "      <td>24</td>\n",
       "      <td>1932595.000</td>\n",
       "      <td>2.667</td>\n",
       "      <td>post_mood</td>\n",
       "      <td>693</td>\n",
       "      <td>14.000</td>\n",
       "      <td>-1.540</td>\n",
       "    </tr>\n",
       "    <tr>\n",
       "      <td>24</td>\n",
       "      <td>26</td>\n",
       "      <td>1932632.000</td>\n",
       "      <td>2.917</td>\n",
       "      <td>post_mood</td>\n",
       "      <td>870</td>\n",
       "      <td>3.000</td>\n",
       "      <td>-1.465</td>\n",
       "    </tr>\n",
       "    <tr>\n",
       "      <td>25</td>\n",
       "      <td>27</td>\n",
       "      <td>1932686.000</td>\n",
       "      <td>2.333</td>\n",
       "      <td>post_mood</td>\n",
       "      <td>596</td>\n",
       "      <td>3.000</td>\n",
       "      <td>-5.765</td>\n",
       "    </tr>\n",
       "    <tr>\n",
       "      <td>26</td>\n",
       "      <td>28</td>\n",
       "      <td>1932763.000</td>\n",
       "      <td>2.833</td>\n",
       "      <td>post_mood</td>\n",
       "      <td>695</td>\n",
       "      <td>-50.000</td>\n",
       "      <td>-1.058</td>\n",
       "    </tr>\n",
       "    <tr>\n",
       "      <td>27</td>\n",
       "      <td>29</td>\n",
       "      <td>1932999.000</td>\n",
       "      <td>4.083</td>\n",
       "      <td>post_mood</td>\n",
       "      <td>521</td>\n",
       "      <td>79.000</td>\n",
       "      <td>-0.102</td>\n",
       "    </tr>\n",
       "  </tbody>\n",
       "</table>\n",
       "</div>"
      ],
      "text/plain": [
       "    Unnamed: 0     Subject  score environment  tap  tap_diff  m_zscored\n",
       "0            0 1932451.000  2.500   post_mood  694    91.000     -2.127\n",
       "1            1 1932455.000  3.417   post_mood  781   -21.000     -2.598\n",
       "2            2 1932457.000  2.917   post_mood  735    27.000     -1.574\n",
       "3            3 1932462.000  2.167   post_mood  693    -9.000      0.555\n",
       "4            4 1932463.000  1.750   post_mood  771    20.000      1.601\n",
       "5            6 1932490.000  3.333   post_mood  688   -14.000     -1.994\n",
       "6            7 1932493.000  1.667   post_mood  731   -13.000     -5.000\n",
       "7            8 1932507.000  3.083   post_mood  616   -75.000     -4.500\n",
       "8            9 1932509.000  3.083   post_mood  778    11.000      0.218\n",
       "9           10 1932510.000  3.250   post_mood  655   -56.000     -1.763\n",
       "10          11 1932515.000  2.000   post_mood  795    43.000     -1.443\n",
       "11          12 1932516.000  1.417   post_mood  577  -105.000     -3.603\n",
       "12          13 1932518.000  1.750   post_mood  641   -50.000      0.431\n",
       "13          14 1932520.000  3.167   post_mood  532   -33.000     -4.667\n",
       "14          15 1932521.000  2.083   post_mood  563   -42.000     -1.606\n",
       "15          16 1932522.000  3.583   post_mood  684    19.000     -5.563\n",
       "16          17 1932544.000  2.000   post_mood  786    34.000     -1.960\n",
       "17          18 1932546.000  2.667   post_mood  678    31.000      0.577\n",
       "18          19 1932547.000  3.250   post_mood  654   -23.000     -1.354\n",
       "19          20 1932550.000  3.000   post_mood   23    -1.000      1.155\n",
       "20          21 1932560.000  3.917   post_mood  832    -1.000     -2.033\n",
       "21          22 1932571.000  1.583   post_mood  670   -36.000     -0.609\n",
       "22          23 1932591.000  2.583   post_mood  701   -22.000     -0.801\n",
       "23          24 1932595.000  2.667   post_mood  693    14.000     -1.540\n",
       "24          26 1932632.000  2.917   post_mood  870     3.000     -1.465\n",
       "25          27 1932686.000  2.333   post_mood  596     3.000     -5.765\n",
       "26          28 1932763.000  2.833   post_mood  695   -50.000     -1.058\n",
       "27          29 1932999.000  4.083   post_mood  521    79.000     -0.102"
      ]
     },
     "execution_count": 143,
     "metadata": {},
     "output_type": "execute_result"
    }
   ],
   "source": [
    "hps"
   ]
  },
  {
   "cell_type": "code",
   "execution_count": 139,
   "metadata": {},
   "outputs": [
    {
     "data": {
      "text/plain": [
       "SpearmanrResult(correlation=-0.1624213092825628, pvalue=0.4089330500027326)"
      ]
     },
     "execution_count": 139,
     "metadata": {},
     "output_type": "execute_result"
    }
   ],
   "source": [
    "ss.spearmanr(hps[\"score\"], hps[\"m_zscored\"])"
   ]
  },
  {
   "cell_type": "code",
   "execution_count": 140,
   "metadata": {},
   "outputs": [
    {
     "data": {
      "text/plain": [
       "(0.22554703570879175, 0.24849396729132572)"
      ]
     },
     "execution_count": 140,
     "metadata": {},
     "output_type": "execute_result"
    }
   ],
   "source": [
    "ss.pearsonr(hps[\"score\"], hps[\"tap_diff\"])"
   ]
  },
  {
   "cell_type": "code",
   "execution_count": null,
   "metadata": {},
   "outputs": [],
   "source": [
    "# z-scored post ratings "
   ]
  },
  {
   "cell_type": "markdown",
   "metadata": {},
   "source": [
    "# median latency between high and low"
   ]
  },
  {
   "cell_type": "code",
   "execution_count": 82,
   "metadata": {},
   "outputs": [
    {
     "data": {
      "text/plain": [
       "30"
      ]
     },
     "execution_count": 82,
     "metadata": {},
     "output_type": "execute_result"
    }
   ],
   "source": [
    "fish.Subject.nunique()"
   ]
  },
  {
   "cell_type": "code",
   "execution_count": 83,
   "metadata": {},
   "outputs": [],
   "source": [
    "m = fish.groupby([\"Subject\", \"price_displayed\"])[\"latency\"].median().reset_index(name = \"median\")"
   ]
  },
  {
   "cell_type": "code",
   "execution_count": 84,
   "metadata": {},
   "outputs": [],
   "source": [
    "m = m[m.price_displayed.isin([0.1, 2.5])]"
   ]
  },
  {
   "cell_type": "code",
   "execution_count": 85,
   "metadata": {},
   "outputs": [],
   "source": [
    "diff = m.groupby([\"Subject\"], as_index = True)[\"median\"].diff().shift(-1)"
   ]
  },
  {
   "cell_type": "code",
   "execution_count": 86,
   "metadata": {},
   "outputs": [],
   "source": [
    "m[\"diff\"] = diff"
   ]
  },
  {
   "cell_type": "code",
   "execution_count": 87,
   "metadata": {},
   "outputs": [],
   "source": [
    "m = m.dropna()"
   ]
  },
  {
   "cell_type": "code",
   "execution_count": 88,
   "metadata": {},
   "outputs": [
    {
     "data": {
      "text/plain": [
       "9.0"
      ]
     },
     "execution_count": 88,
     "metadata": {},
     "output_type": "execute_result"
    }
   ],
   "source": [
    "np.median(m[\"diff\"]*(-1))"
   ]
  },
  {
   "cell_type": "code",
   "execution_count": 89,
   "metadata": {},
   "outputs": [],
   "source": [
    "# only pre-mood"
   ]
  },
  {
   "cell_type": "code",
   "execution_count": 90,
   "metadata": {},
   "outputs": [],
   "source": [
    "m_pre_mood = fish[fish.environment == \"pre_mood\"]"
   ]
  },
  {
   "cell_type": "code",
   "execution_count": 91,
   "metadata": {},
   "outputs": [],
   "source": [
    "m_pre_mood = m_pre_mood.groupby([\"Subject\", \"price_displayed\"])[\"latency\"].median().reset_index(name = \"median\")"
   ]
  },
  {
   "cell_type": "code",
   "execution_count": 92,
   "metadata": {},
   "outputs": [],
   "source": [
    "m_pre_mood = m_pre_mood[m_pre_mood.price_displayed.isin([0.1, 2.5])]"
   ]
  },
  {
   "cell_type": "code",
   "execution_count": 93,
   "metadata": {},
   "outputs": [],
   "source": [
    "diff_pre_mood = m_pre_mood.groupby([\"Subject\"], as_index = True)[\"median\"].diff().shift(-1)"
   ]
  },
  {
   "cell_type": "code",
   "execution_count": 94,
   "metadata": {},
   "outputs": [],
   "source": [
    "m_pre_mood[\"diff\"] = diff_pre_mood"
   ]
  },
  {
   "cell_type": "code",
   "execution_count": 95,
   "metadata": {},
   "outputs": [],
   "source": [
    "m_pre_mood = m_pre_mood.dropna()"
   ]
  },
  {
   "cell_type": "code",
   "execution_count": 96,
   "metadata": {},
   "outputs": [
    {
     "data": {
      "text/plain": [
       "11.5"
      ]
     },
     "execution_count": 96,
     "metadata": {},
     "output_type": "execute_result"
    }
   ],
   "source": [
    "np.median(m_pre_mood[\"diff\"]*(-1))"
   ]
  },
  {
   "cell_type": "code",
   "execution_count": 97,
   "metadata": {},
   "outputs": [],
   "source": [
    "f_1 = fish[fish.trial_label.isin(['pre_mood 1.0',\n",
    "                                 'pre_mood 2.0',\n",
    "                                 'pre_mood 3.0',\n",
    "                                 'pre_mood 4.0'])]\n",
    "\n"
   ]
  },
  {
   "cell_type": "code",
   "execution_count": 98,
   "metadata": {},
   "outputs": [],
   "source": [
    "f_2 = fish[fish.trial_label.isin(['pre_mood 5.0',\n",
    "                                 'pre_mood 6.0',\n",
    "                                 'pre_mood 7.0',\n",
    "                                 'pre_mood 8.0'])]"
   ]
  },
  {
   "cell_type": "code",
   "execution_count": 99,
   "metadata": {},
   "outputs": [
    {
     "name": "stderr",
     "output_type": "stream",
     "text": [
      "/Library/Frameworks/Python.framework/Versions/3.6/lib/python3.6/site-packages/numpy/core/fromnumeric.py:3335: RuntimeWarning: Mean of empty slice.\n",
      "  out=out, **kwargs)\n",
      "/Library/Frameworks/Python.framework/Versions/3.6/lib/python3.6/site-packages/numpy/core/_methods.py:161: RuntimeWarning: invalid value encountered in double_scalars\n",
      "  ret = ret.dtype.type(ret / rcount)\n"
     ]
    },
    {
     "data": {
      "text/plain": [
       "nan"
      ]
     },
     "execution_count": 99,
     "metadata": {},
     "output_type": "execute_result"
    }
   ],
   "source": [
    "m_pre_mood_1 = f_1.groupby([\"Subject\", \"price_displayed\"])[\"latency\"].median().reset_index(name = \"median\")\n",
    "m_pre_mood_1 = m_pre_mood_1[m_pre_mood_1.price_displayed.isin([0.1, 6])]\n",
    "diff_pre_mood_1 = m_pre_mood_1.groupby([\"Subject\"], as_index = True)[\"median\"].diff().shift(-1)\n",
    "m_pre_mood_1[\"diff\"] = diff_pre_mood_1\n",
    "m_pre_mood_1 = m_pre_mood_1.dropna()\n",
    "np.median(m_pre_mood_1[\"diff\"]*(-1))\n"
   ]
  },
  {
   "cell_type": "code",
   "execution_count": 129,
   "metadata": {},
   "outputs": [
    {
     "data": {
      "text/plain": [
       "27.5"
      ]
     },
     "execution_count": 129,
     "metadata": {},
     "output_type": "execute_result"
    }
   ],
   "source": [
    "m_pre_mood_2 = f_2.groupby([\"Subject\", \"price_displayed\"])[\"latency\"].median().reset_index(name = \"median\")\n",
    "m_pre_mood_2 = m_pre_mood_2[m_pre_mood_2.price_displayed.isin([0.1, 6])]\n",
    "diff_pre_mood_2 = m_pre_mood_2.groupby([\"Subject\"], as_index = True)[\"median\"].diff().shift(-1)\n",
    "m_pre_mood_2[\"diff\"] = diff_pre_mood_2\n",
    "m_pre_mood_2 = m_pre_mood_2.dropna()\n",
    "np.median(m_pre_mood_2[\"diff\"]*(-1))\n"
   ]
  },
  {
   "cell_type": "code",
   "execution_count": 130,
   "metadata": {},
   "outputs": [],
   "source": [
    "from scipy import stats as ss"
   ]
  },
  {
   "cell_type": "code",
   "execution_count": 131,
   "metadata": {},
   "outputs": [
    {
     "data": {
      "text/plain": [
       "Ttest_relResult(statistic=0.5036211665131262, pvalue=0.6184670833033181)"
      ]
     },
     "execution_count": 131,
     "metadata": {},
     "output_type": "execute_result"
    }
   ],
   "source": [
    "ss.ttest_rel(m_pre_mood_2[\"diff\"], m_pre_mood_1[\"diff\"])"
   ]
  },
  {
   "cell_type": "code",
   "execution_count": 101,
   "metadata": {},
   "outputs": [],
   "source": [
    "# post-mood overall"
   ]
  },
  {
   "cell_type": "code",
   "execution_count": 110,
   "metadata": {},
   "outputs": [],
   "source": [
    "m_post_mood = fish[fish.environment == \"post_mood\"]"
   ]
  },
  {
   "cell_type": "code",
   "execution_count": 111,
   "metadata": {},
   "outputs": [
    {
     "data": {
      "text/plain": [
       "(19940, 17)"
      ]
     },
     "execution_count": 111,
     "metadata": {},
     "output_type": "execute_result"
    }
   ],
   "source": [
    "m_post_mood.shape"
   ]
  },
  {
   "cell_type": "code",
   "execution_count": 112,
   "metadata": {},
   "outputs": [
    {
     "data": {
      "text/plain": [
       "0.5"
      ]
     },
     "execution_count": 112,
     "metadata": {},
     "output_type": "execute_result"
    }
   ],
   "source": [
    "m_post_mood = m_post_mood.groupby([\"Subject\",\"price_displayed\"])[\"latency\"].median().reset_index(name = \"median\")\n",
    "m_post_mood = m_post_mood[m_post_mood.price_displayed.isin([0.1, 2.5])]\n",
    "diff_post_mood = m_post_mood.groupby([\"Subject\"], as_index = True)[\"median\"].diff().shift(-1)\n",
    "m_post_mood[\"diff\"] = diff_post_mood\n",
    "m_post_mood = m_post_mood.dropna()\n",
    "np.median(m_post_mood[\"diff\"]*(-1))"
   ]
  },
  {
   "cell_type": "code",
   "execution_count": 182,
   "metadata": {},
   "outputs": [],
   "source": [
    "# post-mood positive"
   ]
  },
  {
   "cell_type": "code",
   "execution_count": 193,
   "metadata": {},
   "outputs": [],
   "source": [
    "m_pos = fish[(fish.mood == \"pos\")&(fish.environment == \"post_mood\")]"
   ]
  },
  {
   "cell_type": "code",
   "execution_count": 194,
   "metadata": {},
   "outputs": [],
   "source": [
    "m_pos = m_pos.groupby([\"Subject\", \"price_displayed\"])[\"latency\"].median().reset_index(name = \"median\")"
   ]
  },
  {
   "cell_type": "code",
   "execution_count": 195,
   "metadata": {},
   "outputs": [],
   "source": [
    "m_pos= m_pos[m_pos.price_displayed.isin([0.1, 6])]"
   ]
  },
  {
   "cell_type": "code",
   "execution_count": 196,
   "metadata": {},
   "outputs": [],
   "source": [
    "diff_pos_mood = m_pos.groupby([\"Subject\"], as_index = True)[\"median\"].diff().shift(-1)"
   ]
  },
  {
   "cell_type": "code",
   "execution_count": 197,
   "metadata": {},
   "outputs": [],
   "source": [
    "m_pos[\"diff\"] = diff_pos_mood"
   ]
  },
  {
   "cell_type": "code",
   "execution_count": 198,
   "metadata": {},
   "outputs": [],
   "source": [
    "m_pos = m_pos.dropna()"
   ]
  },
  {
   "cell_type": "code",
   "execution_count": 199,
   "metadata": {},
   "outputs": [
    {
     "data": {
      "text/plain": [
       "1.0"
      ]
     },
     "execution_count": 199,
     "metadata": {},
     "output_type": "execute_result"
    }
   ],
   "source": [
    "np.median(m_pos [\"diff\"]*(-1))"
   ]
  },
  {
   "cell_type": "code",
   "execution_count": 202,
   "metadata": {},
   "outputs": [],
   "source": [
    "m_post_mood = fish[fish.environment == \"post_mood\"]"
   ]
  },
  {
   "cell_type": "code",
   "execution_count": 203,
   "metadata": {},
   "outputs": [],
   "source": [
    "m_neg = m_post_mood[m_post_mood.mood == \"neg\"]"
   ]
  },
  {
   "cell_type": "code",
   "execution_count": 204,
   "metadata": {},
   "outputs": [],
   "source": [
    "m_neg = m_neg.groupby([\"Subject\", \"price_displayed\"])[\"latency\"].median().reset_index(name = \"median\")"
   ]
  },
  {
   "cell_type": "code",
   "execution_count": 205,
   "metadata": {},
   "outputs": [],
   "source": [
    "m_neg= m_neg[m_neg.price_displayed.isin([0.1, 6])]"
   ]
  },
  {
   "cell_type": "code",
   "execution_count": 206,
   "metadata": {},
   "outputs": [],
   "source": [
    "diff_neg_mood = m_neg.groupby([\"Subject\"], as_index = True)[\"median\"].diff().shift(-1)"
   ]
  },
  {
   "cell_type": "code",
   "execution_count": 207,
   "metadata": {},
   "outputs": [],
   "source": [
    "m_neg[\"diff\"] = diff_neg_mood"
   ]
  },
  {
   "cell_type": "code",
   "execution_count": 208,
   "metadata": {},
   "outputs": [],
   "source": [
    "m_neg = m_neg.dropna()"
   ]
  },
  {
   "cell_type": "code",
   "execution_count": 209,
   "metadata": {},
   "outputs": [
    {
     "data": {
      "text/plain": [
       "0.5"
      ]
     },
     "execution_count": 209,
     "metadata": {},
     "output_type": "execute_result"
    }
   ],
   "source": [
    "np.median(m_neg [\"diff\"]*(-1))"
   ]
  },
  {
   "cell_type": "markdown",
   "metadata": {},
   "source": [
    "# Log Linear Mixed Model"
   ]
  },
  {
   "cell_type": "code",
   "execution_count": 38,
   "metadata": {},
   "outputs": [],
   "source": [
    "from statsmodels.formula.api import mixedlm"
   ]
  },
  {
   "cell_type": "code",
   "execution_count": 39,
   "metadata": {},
   "outputs": [],
   "source": [
    "# calculate fatigue\n",
    "fish[\"tap_count\"] = [1] * len(fish)\n",
    "tap_count = fish.groupby(['Subject', 'trial_label'])['tap_count'].cumsum().reset_index(name = \"fatigue\")\n",
    "tap_count = tap_count.reset_index().set_index(\"index\")\n",
    "tap_count = tap_count.drop(\"level_0\", axis = 1)"
   ]
  },
  {
   "cell_type": "code",
   "execution_count": 40,
   "metadata": {},
   "outputs": [],
   "source": [
    "fish = tap_count.merge(fish, left_index = True, right_index = True, how = \"inner\")"
   ]
  },
  {
   "cell_type": "code",
   "execution_count": 41,
   "metadata": {},
   "outputs": [],
   "source": [
    "fish[\"log_latency\"] = np.log(fish[\"latency\"])"
   ]
  },
  {
   "cell_type": "code",
   "execution_count": 42,
   "metadata": {},
   "outputs": [
    {
     "data": {
      "text/plain": [
       "array([0, 1])"
      ]
     },
     "execution_count": 42,
     "metadata": {},
     "output_type": "execute_result"
    }
   ],
   "source": [
    "fish.environment_binary.unique()"
   ]
  },
  {
   "cell_type": "code",
   "execution_count": 43,
   "metadata": {},
   "outputs": [
    {
     "data": {
      "text/plain": [
       "array([2.5, 1. , 0.1, 0.4])"
      ]
     },
     "execution_count": 43,
     "metadata": {},
     "output_type": "execute_result"
    }
   ],
   "source": [
    "fish.price_displayed.unique()"
   ]
  },
  {
   "cell_type": "code",
   "execution_count": 45,
   "metadata": {},
   "outputs": [],
   "source": [
    "fish.latency.isnull().values.any()\n",
    "fish = fish[fish.latency.notnull()]"
   ]
  },
  {
   "cell_type": "code",
   "execution_count": 46,
   "metadata": {},
   "outputs": [
    {
     "data": {
      "text/html": [
       "<div>\n",
       "<style scoped>\n",
       "    .dataframe tbody tr th:only-of-type {\n",
       "        vertical-align: middle;\n",
       "    }\n",
       "\n",
       "    .dataframe tbody tr th {\n",
       "        vertical-align: top;\n",
       "    }\n",
       "\n",
       "    .dataframe thead th {\n",
       "        text-align: right;\n",
       "    }\n",
       "</style>\n",
       "<table border=\"1\" class=\"dataframe\">\n",
       "  <thead>\n",
       "    <tr style=\"text-align: right;\">\n",
       "      <th></th>\n",
       "      <th>fatigue</th>\n",
       "      <th>Subject</th>\n",
       "      <th>UTC Timestamp</th>\n",
       "      <th>key pressed</th>\n",
       "      <th>price_displayed</th>\n",
       "      <th>environment</th>\n",
       "      <th>task</th>\n",
       "      <th>function id</th>\n",
       "      <th>builtin rt</th>\n",
       "      <th>end_time</th>\n",
       "      <th>start_time</th>\n",
       "      <th>response</th>\n",
       "      <th>round_instance</th>\n",
       "      <th>trial_label</th>\n",
       "      <th>environment_binary</th>\n",
       "      <th>latency</th>\n",
       "      <th>mood</th>\n",
       "      <th>tap_count</th>\n",
       "      <th>log_latency</th>\n",
       "    </tr>\n",
       "  </thead>\n",
       "  <tbody>\n",
       "    <tr>\n",
       "      <td>5</td>\n",
       "      <td>1</td>\n",
       "      <td>1932451.000</td>\n",
       "      <td>1599581939262.000</td>\n",
       "      <td>40.000</td>\n",
       "      <td>2.500</td>\n",
       "      <td>pre_mood</td>\n",
       "      <td>fishing_neg</td>\n",
       "      <td>fishing_neg</td>\n",
       "      <td>184.950</td>\n",
       "      <td>1599581938854.000</td>\n",
       "      <td>1599581938668</td>\n",
       "      <td>nan</td>\n",
       "      <td>1.000</td>\n",
       "      <td>pre_mood 1.0</td>\n",
       "      <td>0</td>\n",
       "      <td>289.000</td>\n",
       "      <td>neg</td>\n",
       "      <td>1</td>\n",
       "      <td>5.666</td>\n",
       "    </tr>\n",
       "  </tbody>\n",
       "</table>\n",
       "</div>"
      ],
      "text/plain": [
       "   fatigue     Subject     UTC Timestamp  key pressed  price_displayed  \\\n",
       "5        1 1932451.000 1599581939262.000       40.000            2.500   \n",
       "\n",
       "  environment         task  function id  builtin rt          end_time  \\\n",
       "5    pre_mood  fishing_neg  fishing_neg     184.950 1599581938854.000   \n",
       "\n",
       "      start_time  response  round_instance   trial_label  environment_binary  \\\n",
       "5  1599581938668       nan           1.000  pre_mood 1.0                   0   \n",
       "\n",
       "   latency mood  tap_count  log_latency  \n",
       "5  289.000  neg          1        5.666  "
      ]
     },
     "execution_count": 46,
     "metadata": {},
     "output_type": "execute_result"
    }
   ],
   "source": [
    "fish.head(1)"
   ]
  },
  {
   "cell_type": "code",
   "execution_count": 47,
   "metadata": {},
   "outputs": [],
   "source": [
    "fish_pre = fish[fish.environment == \"pre_mood\"]\n",
    "fish_post = fish[fish.environment == \"post_mood\"]\n"
   ]
  },
  {
   "cell_type": "code",
   "execution_count": 104,
   "metadata": {},
   "outputs": [
    {
     "name": "stderr",
     "output_type": "stream",
     "text": [
      "/Library/Frameworks/Python.framework/Versions/3.6/lib/python3.6/site-packages/statsmodels/regression/mixed_linear_model.py:2094: ConvergenceWarning: The MLE may be on the boundary of the parameter space.\n",
      "  warnings.warn(msg, ConvergenceWarning)\n"
     ]
    }
   ],
   "source": [
    "f_model = mixedlm(formula = \"log_latency ~ 1 + environment_binary + price_displayed + fatigue\",\n",
    "                 groups = fish[\"Subject\"],\n",
    "                 re_formula = \"~ environment_binary + price_displayed + fatigue\", data = fish)\n",
    "r = f_model.fit(reml = False, method = \"powell\")"
   ]
  },
  {
   "cell_type": "code",
   "execution_count": 105,
   "metadata": {},
   "outputs": [
    {
     "name": "stdout",
     "output_type": "stream",
     "text": [
      "                       Mixed Linear Model Regression Results\n",
      "===================================================================================\n",
      "Model:                      MixedLM         Dependent Variable:         log_latency\n",
      "No. Observations:           39451           Method:                     ML         \n",
      "No. Groups:                 30              Scale:                      0.0574     \n",
      "Min. group size:            23              Likelihood:                 144.2077   \n",
      "Max. group size:            1713            Converged:                  Yes        \n",
      "Mean group size:            1315.0                                                 \n",
      "-----------------------------------------------------------------------------------\n",
      "                                         Coef.  Std.Err.   z    P>|z| [0.025 0.975]\n",
      "-----------------------------------------------------------------------------------\n",
      "Intercept                                 5.216    0.058 89.493 0.000  5.102  5.330\n",
      "environment_binary                       -0.006    0.014 -0.450 0.653 -0.034  0.021\n",
      "price_displayed                          -0.022    0.009 -2.524 0.012 -0.040 -0.005\n",
      "fatigue                                  -0.002    0.001 -2.825 0.005 -0.003 -0.001\n",
      "Group Var                                 0.101    0.115                           \n",
      "Group x environment_binary Cov           -0.019    0.031                           \n",
      "environment_binary Var                    0.006    0.010                           \n",
      "Group x price_displayed Cov               0.005    0.017                           \n",
      "environment_binary x price_displayed Cov -0.001    0.005                           \n",
      "price_displayed Var                       0.002    0.004                           \n",
      "Group x fatigue Cov                      -0.001    0.001                           \n",
      "environment_binary x fatigue Cov          0.000    0.000                           \n",
      "price_displayed x fatigue Cov            -0.000    0.000                           \n",
      "fatigue Var                               0.000    0.000                           \n",
      "===================================================================================\n",
      "\n"
     ]
    }
   ],
   "source": [
    "print (r.summary())"
   ]
  },
  {
   "cell_type": "code",
   "execution_count": 109,
   "metadata": {},
   "outputs": [],
   "source": [
    "r_params = pd.DataFrame(r.params, columns = [\"LMM\"])\n",
    "random_effects = pd.DataFrame(r.random_effects)\n",
    "random_effects = random_effects.transpose()\n",
    "random_effects = random_effects.rename(index = str, columns = {\"group\":\"LMM\"})"
   ]
  },
  {
   "cell_type": "code",
   "execution_count": 111,
   "metadata": {},
   "outputs": [
    {
     "name": "stderr",
     "output_type": "stream",
     "text": [
      "/Library/Frameworks/Python.framework/Versions/3.6/lib/python3.6/site-packages/statsmodels/regression/mixed_linear_model.py:2094: ConvergenceWarning: The MLE may be on the boundary of the parameter space.\n",
      "  warnings.warn(msg, ConvergenceWarning)\n"
     ]
    }
   ],
   "source": [
    "f_pre = mixedlm(formula = \"log_latency ~ 1 + price_displayed + fatigue\",\n",
    "                 groups = fish_pre[\"Subject\"],\n",
    "                 re_formula = \"~ price_displayed + fatigue\", data = fish_pre)\n",
    "r_pre = f_pre.fit(reml = False, method = \"powell\")"
   ]
  },
  {
   "cell_type": "code",
   "execution_count": 112,
   "metadata": {},
   "outputs": [
    {
     "name": "stdout",
     "output_type": "stream",
     "text": [
      "                 Mixed Linear Model Regression Results\n",
      "========================================================================\n",
      "Model:                 MixedLM      Dependent Variable:      log_latency\n",
      "No. Observations:      19870        Method:                  ML         \n",
      "No. Groups:            30           Scale:                   0.0541     \n",
      "Min. group size:       12           Likelihood:              601.7692   \n",
      "Max. group size:       855          Converged:               Yes        \n",
      "Mean group size:       662.3                                            \n",
      "------------------------------------------------------------------------\n",
      "                              Coef.  Std.Err.   z    P>|z| [0.025 0.975]\n",
      "------------------------------------------------------------------------\n",
      "Intercept                      5.246    0.064 81.917 0.000  5.121  5.372\n",
      "price_displayed               -0.053    0.014 -3.703 0.000 -0.081 -0.025\n",
      "fatigue                       -0.001    0.000 -2.962 0.003 -0.002 -0.000\n",
      "Group Var                      0.122    0.146                           \n",
      "Group x price_displayed Cov   -0.006    0.037                           \n",
      "price_displayed Var            0.006    0.010                           \n",
      "Group x fatigue Cov           -0.001    0.001                           \n",
      "price_displayed x fatigue Cov  0.000    0.000                           \n",
      "fatigue Var                    0.000    0.000                           \n",
      "========================================================================\n",
      "\n"
     ]
    }
   ],
   "source": [
    "print (r_pre.summary())"
   ]
  },
  {
   "cell_type": "code",
   "execution_count": 114,
   "metadata": {},
   "outputs": [
    {
     "name": "stderr",
     "output_type": "stream",
     "text": [
      "/Library/Frameworks/Python.framework/Versions/3.6/lib/python3.6/site-packages/statsmodels/regression/mixed_linear_model.py:2094: ConvergenceWarning: The MLE may be on the boundary of the parameter space.\n",
      "  warnings.warn(msg, ConvergenceWarning)\n"
     ]
    }
   ],
   "source": [
    "f_post = mixedlm(formula = \"log_latency ~ 1 + environment + price_displayed + fatigue\",\n",
    "                 groups = fish_post[\"Subject\"],\n",
    "                 re_formula = \"~ environment + price_displayed + fatigue\", data = fish_post)\n",
    "r_post = f_post.fit(reml = False, method = \"powell\")"
   ]
  },
  {
   "cell_type": "code",
   "execution_count": 115,
   "metadata": {},
   "outputs": [
    {
     "name": "stdout",
     "output_type": "stream",
     "text": [
      "                  Mixed Linear Model Regression Results\n",
      "=========================================================================\n",
      "Model:                  MixedLM      Dependent Variable:      log_latency\n",
      "No. Observations:       19581        Method:                  ML         \n",
      "No. Groups:             30           Scale:                   0.0572     \n",
      "Min. group size:        11           Likelihood:              66.1158    \n",
      "Max. group size:        858          Converged:               Yes        \n",
      "Mean group size:        652.7                                            \n",
      "-------------------------------------------------------------------------\n",
      "                              Coef.  Std.Err.    z    P>|z| [0.025 0.975]\n",
      "-------------------------------------------------------------------------\n",
      "Intercept                      5.176    0.044 118.507 0.000  5.090  5.261\n",
      "price_displayed                0.006    0.011   0.527 0.598 -0.015  0.026\n",
      "fatigue                       -0.002    0.001  -2.749 0.006 -0.003 -0.000\n",
      "Group Var                      0.057    0.067                            \n",
      "Group x price_displayed Cov    0.006    0.015                            \n",
      "price_displayed Var            0.003    0.006                            \n",
      "Group x fatigue Cov           -0.001    0.001                            \n",
      "price_displayed x fatigue Cov -0.000    0.000                            \n",
      "fatigue Var                    0.000    0.000                            \n",
      "=========================================================================\n",
      "\n"
     ]
    }
   ],
   "source": [
    "print (r_post.summary())"
   ]
  },
  {
   "cell_type": "code",
   "execution_count": 48,
   "metadata": {},
   "outputs": [],
   "source": [
    "f_pre_avg = fish_pre.groupby(\"Subject\")[\"latency\"].mean().reset_index(name = \"avg_across\")\n",
    "f_post_avg = fish_post.groupby(\"Subject\")[\"latency\"].mean().reset_index(name = \"avg_across\")\n",
    "                                                                      "
   ]
  },
  {
   "cell_type": "code",
   "execution_count": 49,
   "metadata": {},
   "outputs": [
    {
     "data": {
      "text/plain": [
       "WilcoxonResult(statistic=199.0, pvalue=0.49079849348995086)"
      ]
     },
     "execution_count": 49,
     "metadata": {},
     "output_type": "execute_result"
    }
   ],
   "source": [
    "ss.wilcoxon(f_pre_avg.avg_across, f_post_avg.avg_across)"
   ]
  },
  {
   "cell_type": "code",
   "execution_count": 56,
   "metadata": {},
   "outputs": [],
   "source": [
    "f_pre_avg = fish_pre.groupby(\"Subject\")[\"latency\"].median().reset_index(name = \"avg_across_pre\")\n",
    "f_post_avg = fish_post.groupby(\"Subject\")[\"latency\"].median().reset_index(name = \"avg_across_post\")\n",
    "                                                                      "
   ]
  },
  {
   "cell_type": "code",
   "execution_count": 58,
   "metadata": {},
   "outputs": [
    {
     "data": {
      "text/plain": [
       "WilcoxonResult(statistic=188.5, pvalue=0.36509377246560404)"
      ]
     },
     "execution_count": 58,
     "metadata": {},
     "output_type": "execute_result"
    }
   ],
   "source": [
    "ss.wilcoxon(f_pre_avg.avg_across_pre, f_post_avg.avg_across_post)"
   ]
  },
  {
   "cell_type": "code",
   "execution_count": 59,
   "metadata": {},
   "outputs": [],
   "source": [
    "medians = f_pre_avg.merge(f_post_avg, on = \"Subject\")"
   ]
  },
  {
   "cell_type": "code",
   "execution_count": 60,
   "metadata": {},
   "outputs": [
    {
     "data": {
      "text/plain": [
       "(30, 3)"
      ]
     },
     "execution_count": 60,
     "metadata": {},
     "output_type": "execute_result"
    }
   ],
   "source": [
    "medians.shape"
   ]
  },
  {
   "cell_type": "code",
   "execution_count": 63,
   "metadata": {},
   "outputs": [],
   "source": [
    "m = medians[medians.Subject != 1932550]"
   ]
  },
  {
   "cell_type": "code",
   "execution_count": 74,
   "metadata": {},
   "outputs": [
    {
     "data": {
      "image/png": "[encoded data removed]",
      "text/plain": [
       "<Figure size 432x288 with 1 Axes>"
      ]
     },
     "metadata": {
      "needs_background": "light"
     },
     "output_type": "display_data"
    }
   ],
   "source": [
    "plt.scatter(m[\"avg_across_pre\"], m[\"avg_across_post\"])\n",
    "plt.xlabel(\"Median Latency Pre Mood Manipulation(ms)\")\n",
    "plt.ylabel(\"Median Latency Post Mood Manipulation(ms)\")\n",
    "\n",
    "lims = [\n",
    "    np.min([plt.gca().get_xlim(), plt.gca().get_ylim()]),  # min of both axes\n",
    "    np.max([plt.gca().get_xlim(), plt.gca().get_ylim()]),  # max of both axes\n",
    "]\n",
    "\n",
    "# now plot both limits against eachother\n",
    "plt.plot(lims, lims, 'k-', alpha=0.75, zorder=0)\n",
    "plt.title(\"Scatter plot of medians for all prices (n = 29)\")\n",
    "plt.savefig(\"scatter plot medians.png\", dpi = 300, transparent = True)"
   ]
  },
  {
   "cell_type": "code",
   "execution_count": 76,
   "metadata": {},
   "outputs": [
    {
     "data": {
      "text/plain": [
       "WilcoxonResult(statistic=158.5, pvalue=0.20165471306805094)"
      ]
     },
     "execution_count": 76,
     "metadata": {},
     "output_type": "execute_result"
    }
   ],
   "source": [
    "ss.wilcoxon(m[\"avg_across_pre\"], m[\"avg_across_post\"])"
   ]
  },
  {
   "cell_type": "code",
   "execution_count": null,
   "metadata": {},
   "outputs": [],
   "source": []
  }
 ],
 "metadata": {
  "kernelspec": {
   "display_name": "Python 3",
   "language": "python",
   "name": "python3"
  },
  "language_info": {
   "codemirror_mode": {
    "name": "ipython",
    "version": 3
   },
   "file_extension": ".py",
   "mimetype": "text/x-python",
   "name": "python",
   "nbconvert_exporter": "python",
   "pygments_lexer": "ipython3",
   "version": "3.6.3"
  }
 },
 "nbformat": 4,
 "nbformat_minor": 4
}
