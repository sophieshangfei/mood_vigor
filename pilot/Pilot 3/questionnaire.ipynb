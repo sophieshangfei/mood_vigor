{
 "cells": [
  {
   "cell_type": "code",
   "execution_count": 1,
   "metadata": {},
   "outputs": [],
   "source": [
    "import numpy as np\n",
    "import pandas as pd\n",
    "import matplotlib.pyplot as plt\n",
    "import seaborn as sns\n",
    "from scipy import stats as ss"
   ]
  },
  {
   "cell_type": "code",
   "execution_count": 2,
   "metadata": {},
   "outputs": [],
   "source": [
    "pd.set_option('display.max_columns', 300)\n",
    "pd.set_option('display.max_rows', None)"
   ]
  },
  {
   "cell_type": "code",
   "execution_count": 3,
   "metadata": {},
   "outputs": [],
   "source": [
    "# #get rid of scientific notation\n",
    "pd.set_option('display.float_format', lambda x: '%.3f' % x)"
   ]
  },
  {
   "cell_type": "code",
   "execution_count": null,
   "metadata": {},
   "outputs": [],
   "source": []
  },
  {
   "cell_type": "code",
   "execution_count": 4,
   "metadata": {},
   "outputs": [],
   "source": [
    "hps = pd.read_csv(\"data_exp_24884-v5/data_exp_24884-v5_questionnaire-hl4i.csv\")"
   ]
  },
  {
   "cell_type": "code",
   "execution_count": 5,
   "metadata": {},
   "outputs": [
    {
     "data": {
      "text/plain": [
       "array(['BEGIN QUESTIONNAIRE', 'hps1', 'hps2', 'hps1-quantised',\n",
       "       'hps2-quantised', 'hps3', 'hps4', 'hps4-quantised', 'hps5',\n",
       "       'hps5-quantised', 'hps3-quantised', 'hps6', 'hps6-quantised',\n",
       "       'hps7', 'hps7-quantised', 'hps8', 'hps8-quantised', 'hps9',\n",
       "       'hps9-quantised', 'hps10', 'hps10-quantised', 'hps11',\n",
       "       'hps11-quantised', 'hps12', 'hps12-quantised', 'END QUESTIONNAIRE',\n",
       "       nan], dtype=object)"
      ]
     },
     "execution_count": 5,
     "metadata": {},
     "output_type": "execute_result"
    }
   ],
   "source": [
    "hps[\"Question Key\"].unique()"
   ]
  },
  {
   "cell_type": "code",
   "execution_count": 6,
   "metadata": {},
   "outputs": [],
   "source": [
    "data = ['hps1-quantised','hps2-quantised', 'hps4-quantised', 'hps5-quantised',\n",
    "       'hps3-quantised', 'hps6-quantised', 'hps7-quantised', 'hps8-quantised',\n",
    "       'hps9-quantised','hps10-quantised', 'hps11-quantised', 'hps12-quantised']"
   ]
  },
  {
   "cell_type": "code",
   "execution_count": 7,
   "metadata": {},
   "outputs": [],
   "source": [
    "hps = hps[hps[\"Question Key\"].isin(data)]"
   ]
  },
  {
   "cell_type": "code",
   "execution_count": 8,
   "metadata": {},
   "outputs": [
    {
     "data": {
      "text/html": [
       "<div>\n",
       "<style scoped>\n",
       "    .dataframe tbody tr th:only-of-type {\n",
       "        vertical-align: middle;\n",
       "    }\n",
       "\n",
       "    .dataframe tbody tr th {\n",
       "        vertical-align: top;\n",
       "    }\n",
       "\n",
       "    .dataframe thead th {\n",
       "        text-align: right;\n",
       "    }\n",
       "</style>\n",
       "<table border=\"1\" class=\"dataframe\">\n",
       "  <thead>\n",
       "    <tr style=\"text-align: right;\">\n",
       "      <th></th>\n",
       "      <th>Event Index</th>\n",
       "      <th>UTC Timestamp</th>\n",
       "      <th>UTC Date</th>\n",
       "      <th>Local Timestamp</th>\n",
       "      <th>Local Timezone</th>\n",
       "      <th>Local Date</th>\n",
       "      <th>Experiment ID</th>\n",
       "      <th>Experiment Version</th>\n",
       "      <th>Tree Node Key</th>\n",
       "      <th>Repeat Key</th>\n",
       "      <th>Schedule ID</th>\n",
       "      <th>Participant Public ID</th>\n",
       "      <th>Participant Private ID</th>\n",
       "      <th>Participant Starting Group</th>\n",
       "      <th>Participant Status</th>\n",
       "      <th>Participant Completion Code</th>\n",
       "      <th>Participant External Session ID</th>\n",
       "      <th>Participant Device Type</th>\n",
       "      <th>Participant Device</th>\n",
       "      <th>Participant OS</th>\n",
       "      <th>Participant Browser</th>\n",
       "      <th>Participant Monitor Size</th>\n",
       "      <th>Participant Viewport Size</th>\n",
       "      <th>Checkpoint</th>\n",
       "      <th>Task Name</th>\n",
       "      <th>Task Version</th>\n",
       "      <th>Question Key</th>\n",
       "      <th>Response</th>\n",
       "    </tr>\n",
       "  </thead>\n",
       "  <tbody>\n",
       "    <tr>\n",
       "      <td>3</td>\n",
       "      <td>4</td>\n",
       "      <td>1599582388678.000</td>\n",
       "      <td>08/09/2020 16:26:28</td>\n",
       "      <td>1599582387875.000</td>\n",
       "      <td>-5.000</td>\n",
       "      <td>08/09/2020 11:26:27</td>\n",
       "      <td>24884.000</td>\n",
       "      <td>5.000</td>\n",
       "      <td>questionnaire-hl4i</td>\n",
       "      <td>nan</td>\n",
       "      <td>6736089.000</td>\n",
       "      <td>BLIND</td>\n",
       "      <td>1932451.000</td>\n",
       "      <td>nan</td>\n",
       "      <td>complete</td>\n",
       "      <td>nan</td>\n",
       "      <td>5f57ad3dd2e50c28cfa0178d</td>\n",
       "      <td>computer</td>\n",
       "      <td>Desktop or Laptop</td>\n",
       "      <td>Mac OS 10.15.6</td>\n",
       "      <td>Chrome 85.0.4183.83</td>\n",
       "      <td>1280x800</td>\n",
       "      <td>1280x721</td>\n",
       "      <td>nan</td>\n",
       "      <td>HPS - formatted</td>\n",
       "      <td>2.000</td>\n",
       "      <td>hps1-quantised</td>\n",
       "      <td>4</td>\n",
       "    </tr>\n",
       "  </tbody>\n",
       "</table>\n",
       "</div>"
      ],
      "text/plain": [
       "  Event Index     UTC Timestamp             UTC Date   Local Timestamp  \\\n",
       "3           4 1599582388678.000  08/09/2020 16:26:28 1599582387875.000   \n",
       "\n",
       "   Local Timezone           Local Date  Experiment ID  Experiment Version  \\\n",
       "3          -5.000  08/09/2020 11:26:27      24884.000               5.000   \n",
       "\n",
       "        Tree Node Key  Repeat Key  Schedule ID Participant Public ID  \\\n",
       "3  questionnaire-hl4i         nan  6736089.000                 BLIND   \n",
       "\n",
       "   Participant Private ID  Participant Starting Group Participant Status  \\\n",
       "3             1932451.000                         nan           complete   \n",
       "\n",
       "   Participant Completion Code Participant External Session ID  \\\n",
       "3                          nan        5f57ad3dd2e50c28cfa0178d   \n",
       "\n",
       "  Participant Device Type Participant Device  Participant OS  \\\n",
       "3                computer  Desktop or Laptop  Mac OS 10.15.6   \n",
       "\n",
       "   Participant Browser Participant Monitor Size Participant Viewport Size  \\\n",
       "3  Chrome 85.0.4183.83                 1280x800                  1280x721   \n",
       "\n",
       "   Checkpoint        Task Name  Task Version    Question Key Response  \n",
       "3         nan  HPS - formatted         2.000  hps1-quantised        4  "
      ]
     },
     "execution_count": 8,
     "metadata": {},
     "output_type": "execute_result"
    }
   ],
   "source": [
    "hps.head(1)"
   ]
  },
  {
   "cell_type": "code",
   "execution_count": 9,
   "metadata": {},
   "outputs": [],
   "source": [
    "hps.rename(columns={\"Participant Private ID\": \"Subject\"}, inplace = True)\n",
    "hps.rename(columns={\"Question Key\": \"QuestionKey\"}, inplace = True)\n",
    "hps.rename(columns={\"Local Timestamp\": \"timestamp\"}, inplace = True )"
   ]
  },
  {
   "cell_type": "code",
   "execution_count": 10,
   "metadata": {},
   "outputs": [],
   "source": [
    "hps = hps[[\"Subject\", \"timestamp\",\"QuestionKey\", \"Response\"]]"
   ]
  },
  {
   "cell_type": "code",
   "execution_count": null,
   "metadata": {},
   "outputs": [],
   "source": []
  },
  {
   "cell_type": "code",
   "execution_count": 11,
   "metadata": {},
   "outputs": [],
   "source": [
    "hps[\"Response\"] = hps[\"Response\"].astype(int)"
   ]
  },
  {
   "cell_type": "code",
   "execution_count": 12,
   "metadata": {},
   "outputs": [],
   "source": [
    "# hps_pos = [1, 3, 5, 6, 8, 10, 11]\n",
    "# hps_neg = [2, 4, 7, 12]\n",
    "hps_pos = ['hps1-quantised', 'hps3-quantised','hps5-quantised','hps6-quantised', 'hps8-quantised',\n",
    "       'hps9-quantised','hps10-quantised', 'hps11-quantised']\n",
    "hps_neg = ['hps4-quantised', 'hps2-quantised',\n",
    "        'hps7-quantised',  'hps12-quantised']\n",
    "\n"
   ]
  },
  {
   "cell_type": "code",
   "execution_count": 13,
   "metadata": {},
   "outputs": [
    {
     "data": {
      "text/plain": [
       "True"
      ]
     },
     "execution_count": 13,
     "metadata": {},
     "output_type": "execute_result"
    }
   ],
   "source": [
    "\"hps2-quantised\" in hps_neg"
   ]
  },
  {
   "cell_type": "code",
   "execution_count": 14,
   "metadata": {},
   "outputs": [],
   "source": [
    "# hps[\"neg\"] = 6 - hps[hps.QuestionKey.isin(hps_neg)].Response.astype(int)"
   ]
  },
  {
   "cell_type": "code",
   "execution_count": 15,
   "metadata": {},
   "outputs": [],
   "source": [
    "hps['reversed'] = hps.apply(lambda row: 6-row[\"Response\"] if row['QuestionKey'] in hps_neg else row[\"Response\"], axis=1)\n"
   ]
  },
  {
   "cell_type": "code",
   "execution_count": 18,
   "metadata": {},
   "outputs": [],
   "source": [
    "hps = hps.groupby(\"Subject\")[\"reversed\"].mean().reset_index(name = \"score\")"
   ]
  },
  {
   "cell_type": "code",
   "execution_count": 20,
   "metadata": {},
   "outputs": [],
   "source": [
    "hps.to_csv(\"hps_neg.csv\")"
   ]
  },
  {
   "cell_type": "code",
   "execution_count": null,
   "metadata": {},
   "outputs": [],
   "source": []
  }
 ],
 "metadata": {
  "kernelspec": {
   "display_name": "Python 3",
   "language": "python",
   "name": "python3"
  },
  "language_info": {
   "codemirror_mode": {
    "name": "ipython",
    "version": 3
   },
   "file_extension": ".py",
   "mimetype": "text/x-python",
   "name": "python",
   "nbconvert_exporter": "python",
   "pygments_lexer": "ipython3",
   "version": "3.6.3"
  }
 },
 "nbformat": 4,
 "nbformat_minor": 4
}
